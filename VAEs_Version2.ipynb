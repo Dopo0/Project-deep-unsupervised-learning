{
 "cells": [
  {
   "cell_type": "markdown",
   "id": "9901e6bfc105bab0",
   "metadata": {
    "id": "9901e6bfc105bab0"
   },
   "source": [
    "## VAEs- Deep Unsupervised Learning Project"
   ]
  },
  {
   "cell_type": "code",
   "execution_count": 1,
   "id": "initial_id",
   "metadata": {
    "id": "initial_id",
    "ExecuteTime": {
     "end_time": "2024-04-19T12:18:46.062982948Z",
     "start_time": "2024-04-19T12:18:44.999633190Z"
    }
   },
   "outputs": [],
   "source": [
    "import numpy as np\n",
    "import matplotlib.pyplot as plt\n",
    "from torchvision import datasets, transforms\n",
    "import torch\n",
    "from torch import nn\n",
    "from torch import optim\n",
    "import torch.nn.functional as F\n",
    "from IPython.display import clear_output\n",
    "import time"
   ]
  },
  {
   "cell_type": "markdown",
   "id": "84e0235db2bf6799",
   "metadata": {
    "id": "84e0235db2bf6799"
   },
   "source": [
    "### Import libraries\n",
    "### Choose device\n",
    "### Define transformations\n",
    "### Load datasets\n",
    "### Inspect a batch (for understanding)\n",
    "### Visualize sample images (for understanding)"
   ]
  },
  {
   "cell_type": "code",
   "execution_count": 2,
   "id": "e9e464a59b6d1c3f",
   "metadata": {
    "colab": {
     "base_uri": "https://localhost:8080/"
    },
    "executionInfo": {
     "elapsed": 197,
     "status": "ok",
     "timestamp": 1712928946572,
     "user": {
      "displayName": "Diana Serna",
      "userId": "09676229743963525876"
     },
     "user_tz": 240
    },
    "id": "e9e464a59b6d1c3f",
    "outputId": "476ca8d2-74f9-4c3a-ac5f-8aa08c325380",
    "ExecuteTime": {
     "end_time": "2024-04-19T12:18:46.226153756Z",
     "start_time": "2024-04-19T12:18:46.145928635Z"
    }
   },
   "outputs": [
    {
     "name": "stdout",
     "output_type": "stream",
     "text": [
      "cuda\n"
     ]
    }
   ],
   "source": [
    "# Choose device\n",
    "\n",
    "device = (\"cuda\" if torch.cuda.is_available() else \"cpu\")\n",
    "print(device)\n",
    "\n",
    "\n",
    "# Define transformations\n",
    "transform = transforms.Compose([\n",
    "    transforms.ToTensor(),\n",
    "    transforms.Normalize((0.5,), (0.5,))\n",
    "])\n",
    "\n",
    "# Load datasets\n",
    "\n",
    "train_set = datasets.FashionMNIST('Data_FashionMNIST/', download=True, train=True, transform=transform)\n",
    "trainLoader = torch.utils.data.DataLoader(train_set, batch_size=64, shuffle=True)\n",
    "\n",
    "test_set = datasets.FashionMNIST('DATA_FashionMNIST/', download=True, train=False, transform=transform)\n",
    "testLoader = torch.utils.data.DataLoader(test_set, batch_size=64, shuffle=True)"
   ]
  },
  {
   "cell_type": "code",
   "execution_count": 3,
   "id": "26Na9eH4a67i",
   "metadata": {
    "colab": {
     "base_uri": "https://localhost:8080/",
     "height": 482
    },
    "executionInfo": {
     "elapsed": 544,
     "status": "ok",
     "timestamp": 1712928947102,
     "user": {
      "displayName": "Diana Serna",
      "userId": "09676229743963525876"
     },
     "user_tz": 240
    },
    "id": "26Na9eH4a67i",
    "outputId": "99dff26f-2827-44c0-8efa-30f30f0a305a",
    "ExecuteTime": {
     "end_time": "2024-04-19T12:18:47.429659271Z",
     "start_time": "2024-04-19T12:18:47.354123810Z"
    }
   },
   "outputs": [
    {
     "name": "stdout",
     "output_type": "stream",
     "text": [
      "<class 'torch.Tensor'>\n",
      "torch.Size([64, 1, 28, 28])\n",
      "torch.Size([64])\n"
     ]
    },
    {
     "data": {
      "text/plain": "<Figure size 640x480 with 4 Axes>",
      "image/png": "[encoded data removed]"
     },
     "metadata": {},
     "output_type": "display_data"
    }
   ],
   "source": [
    "training_data = enumerate(trainLoader)\n",
    "batch_idx, (images, labels) = next(training_data)\n",
    "print(type(images))\n",
    "print(images.shape)\n",
    "print(labels.shape)\n",
    "\n",
    "fig = plt.figure()\n",
    "for i in range(4):\n",
    "    plt.subplot(2, 2, i+1)\n",
    "    plt.imshow(images[i][0], cmap='gray')\n",
    "    plt.title(\"Original Truth Label: {}\".format(labels[i]))\n",
    "    plt.yticks([])\n",
    "    plt.xticks([])\n",
    "plt.show()"
   ]
  },
  {
   "cell_type": "code",
   "execution_count": 4,
   "id": "257de657d55ab0a4",
   "metadata": {
    "id": "257de657d55ab0a4",
    "ExecuteTime": {
     "end_time": "2024-04-19T12:18:48.600960743Z",
     "start_time": "2024-04-19T12:18:48.598777147Z"
    }
   },
   "outputs": [],
   "source": [
    "def visualize_reconstructed_batch(model, data, reconstructed_data):\n",
    "    # Get a grid of images from the batch\n",
    "    images = data.view(-1, 28, 28)\n",
    "    reconstructed_images = reconstructed_data.view(-1, 28, 28)\n",
    "\n",
    "    # Ajustar el tamaño de la cuadrícula\n",
    "    fig, axs = plt.subplots(2, len(images), figsize=(10, 5))\n",
    "\n",
    "    # Verificar la lógica de indexación\n",
    "    for i in range(len(reconstructed_images)):\n",
    "        axs[0, i].imshow(images[i].detach().numpy(), cmap=\"gray\")  # Salia un error relacionado a arrays, añadió detach() y numpy()\n",
    "        axs[0, i].set_title(\"Original\")\n",
    "        axs[0, i].axis('off')\n",
    "\n",
    "        axs[1, i].imshow(reconstructed_images[i].detach().numpy(), cmap=\"gray\")  # Se añadió detach() y numpy()\n",
    "        axs[1, i].set_title(\"Reconstructed\")\n",
    "        axs[1, i].axis('off')\n",
    "\n",
    "    fig.suptitle(\"Sample Reconstructed Images\")\n",
    "    plt.tight_layout()\n",
    "    plt.show()\n",
    "\n"
   ]
  },
  {
   "cell_type": "code",
   "execution_count": 5,
   "id": "96474fe10ee2ecb0",
   "metadata": {
    "id": "96474fe10ee2ecb0",
    "ExecuteTime": {
     "end_time": "2024-04-19T12:18:49.689283906Z",
     "start_time": "2024-04-19T12:18:49.687784332Z"
    }
   },
   "outputs": [],
   "source": [
    "class AutoEncoder(nn.Module):\n",
    "    def __init__(self, num_hidden=8):\n",
    "        super().__init__()\n",
    "\n",
    "        # Set the number of hidden units\n",
    "        self.num_hidden = num_hidden\n",
    "\n",
    "        # Define the encoder part of the autoencoder\n",
    "        self.encoder = nn.Sequential(\n",
    "            nn.Linear(784, 256),  # input size: 784, output size: 256\n",
    "            nn.ReLU(),  # apply the ReLU activation function\n",
    "            nn.Linear(256, self.num_hidden),  # input size: 256, output size: num_hidden\n",
    "            nn.ReLU(),  # apply the ReLU activation function\n",
    "        )\n",
    "\n",
    "        # Define the decoder part of the autoencoder\n",
    "        self.decoder = nn.Sequential(\n",
    "            nn.Linear(self.num_hidden, 256),  # input size: num_hidden, output size: 256\n",
    "            nn.ReLU(),  # apply the ReLU activation function\n",
    "            nn.Linear(256, 784),  # input size: 256, output size: 784\n",
    "            nn.Sigmoid(),  # apply the sigmoid activation function to compress the output to a range of (0, 1)\n",
    "        )\n",
    "\n",
    "    def forward(self, x):\n",
    "        # Pass the input through the encoder\n",
    "        encoded = self.encoder(x)\n",
    "        # Pass the encoded representation through the decoder\n",
    "        decoded = self.decoder(encoded)\n",
    "        # Return both the encoded representation and the reconstructed output\n",
    "        return encoded, decoded"
   ]
  },
  {
   "cell_type": "code",
   "execution_count": 6,
   "id": "4a93a3165e74d558",
   "metadata": {
    "id": "4a93a3165e74d558",
    "ExecuteTime": {
     "end_time": "2024-04-19T12:18:50.180919766Z",
     "start_time": "2024-04-19T12:18:50.177749914Z"
    }
   },
   "outputs": [],
   "source": [
    "class VAE(AutoEncoder):\n",
    "    def __init__(self, num_hidden=8):\n",
    "        super().__init__(num_hidden=num_hidden)\n",
    "        # Add mu and log_var layers for reparameterization\n",
    "        self.mu = nn.Linear(self.num_hidden, self.num_hidden)\n",
    "        self.log_var = nn.Linear(self.num_hidden, self.num_hidden)\n",
    "\n",
    "    def reparameterize(self, mu, log_var):\n",
    "        # Compute the standard deviation from the log variance\n",
    "        std = torch.exp(0.5 * log_var)\n",
    "\n",
    "        # Generate random noise using the same shape as std\n",
    "        eps = torch.randn_like(std)\n",
    "\n",
    "        # Return the reparameterized sample\n",
    "        return mu + eps * std\n",
    "\n",
    "    def forward(self, x):\n",
    "        # Pass the input through the encoder\n",
    "\n",
    "        encoded = self.encoder(x)\n",
    "\n",
    "\n",
    "        # Compute the mean and log variance vectors\n",
    "        mu = self.mu(encoded)\n",
    "        log_var = self.log_var(encoded)\n",
    "\n",
    "        # Reparameterize the latent variable\n",
    "        z = self.reparameterize(mu, log_var)\n",
    "\n",
    "        # Pass the latent variable through the decoder\n",
    "        decoded = self.decoder(z)\n",
    "\n",
    "        # Return the encoded output, decoded output, mean, and log variance\n",
    "        return encoded, decoded, mu, log_var\n",
    "\n",
    "    def sample(self, num_samples):\n",
    "        with torch.no_grad():\n",
    "            # Generate random noise\n",
    "            z = torch.randn(num_samples, self.num_hidden).to(device)\n",
    "\n",
    "            # Pass the noise through the decoder to generate samples\n",
    "            samples = self.decoder(z)\n",
    "\n",
    "        # Return the generated samples\n",
    "        return samples"
   ]
  },
  {
   "cell_type": "code",
   "execution_count": 7,
   "id": "2a03efb73d510737",
   "metadata": {
    "id": "2a03efb73d510737",
    "ExecuteTime": {
     "end_time": "2024-04-19T12:18:50.928087348Z",
     "start_time": "2024-04-19T12:18:50.926766289Z"
    }
   },
   "outputs": [],
   "source": [
    "# Define a loss function that combines MSE and Kullback-Leibler divergence\n",
    "def vae_loss_function(recon_x, x, mu, logvar, lamb=3):\n",
    "    # Compute the MSE loss between the reconstructed output and the input data\n",
    "    MSE = F.mse_loss(recon_x, x.view(-1, 784), reduction=\"sum\")\n",
    "\n",
    "    # Compute the Kullback-Leibler divergence between the learned latent variable distribution and a standard Gaussian distribution\n",
    "    KLD = -0.5 * torch.sum(1 + logvar - mu.pow(2) - logvar.exp())\n",
    "\n",
    "    # Combine the two losses by adding them together and return the result\n",
    "    return MSE + lamb * KLD"
   ]
  },
  {
   "cell_type": "code",
   "execution_count": 8,
   "id": "4d04d920e2a85dd6",
   "metadata": {
    "id": "4d04d920e2a85dd6",
    "ExecuteTime": {
     "end_time": "2024-04-19T12:18:51.531954426Z",
     "start_time": "2024-04-19T12:18:51.529725359Z"
    }
   },
   "outputs": [],
   "source": [
    "def train_vae(model, batch_size=64, learning_rate=1e-3, num_epochs=30):\n",
    "    # Convert the training data to PyTorch tensors\n",
    "\n",
    "\n",
    "    #X_train = torch.from_numpy(X_train_np)\n",
    "\n",
    "    # Create optimizer\n",
    "    optimizer = torch.optim.Adam(model.parameters(), lr=learning_rate)\n",
    "\n",
    "    # Set the device to GPU if available, otherwise use CPU\n",
    "    model.to(device)\n",
    "\n",
    "    # Create a DataLoader to handle batching of the training data\n",
    "    #train_loader = torch.utils.data.DataLoader(\n",
    "    #    X_train, batch_size=batch_size, shuffle=True\n",
    "    #)\n",
    "\n",
    "    # Training loop\n",
    "    for epoch in range(num_epochs):\n",
    "        total_loss = 0.0\n",
    "        for batch_idx, (data,_) in enumerate(trainLoader):\n",
    "            # Get a batch of training data and move it to the device\n",
    "            data = data.reshape(data.size(0),-1)\n",
    "            data = data.to(device)\n",
    "\n",
    "            # Forward pass\n",
    "            encoded, decoded, mu, log_var = model(data)\n",
    "\n",
    "            # Compute the loss and perform backpropagation\n",
    "            loss = vae_loss_function(decoded, data, mu, log_var, lamb=3)/len(data)\n",
    "\n",
    "            optimizer.zero_grad()\n",
    "            loss.backward()\n",
    "            optimizer.step()\n",
    "\n",
    "            # Update the running loss\n",
    "            total_loss += loss.item() * data.size(0)\n",
    "\n",
    "        # Print the epoch loss\n",
    "        epoch_loss = total_loss / len(trainLoader.dataset)\n",
    "        print(\n",
    "            \"Epoch {}/{}: loss={:.4f}\".format(epoch + 1, num_epochs, epoch_loss)\n",
    "        )"
   ]
  },
  {
   "cell_type": "code",
   "execution_count": 9,
   "id": "d4465ed35cb5e6ca",
   "metadata": {
    "colab": {
     "background_save": true,
     "base_uri": "https://localhost:8080/"
    },
    "id": "d4465ed35cb5e6ca",
    "outputId": "c31ddbe0-e04f-464b-a79c-5999233d6e13",
    "ExecuteTime": {
     "end_time": "2024-04-19T12:20:54.606578330Z",
     "start_time": "2024-04-19T12:18:54.539357058Z"
    }
   },
   "outputs": [
    {
     "name": "stdout",
     "output_type": "stream",
     "text": [
      "Epoch 1/30: loss=533.0714\n",
      "Epoch 2/30: loss=514.1771\n",
      "Epoch 3/30: loss=511.5470\n",
      "Epoch 4/30: loss=509.6543\n",
      "Epoch 5/30: loss=508.0259\n",
      "Epoch 6/30: loss=506.8358\n",
      "Epoch 7/30: loss=506.1794\n",
      "Epoch 8/30: loss=505.6691\n",
      "Epoch 9/30: loss=505.4053\n",
      "Epoch 10/30: loss=505.2242\n",
      "Epoch 11/30: loss=505.0178\n",
      "Epoch 12/30: loss=504.8033\n",
      "Epoch 13/30: loss=504.6755\n",
      "Epoch 14/30: loss=504.5720\n",
      "Epoch 15/30: loss=504.3734\n",
      "Epoch 16/30: loss=504.3138\n",
      "Epoch 17/30: loss=504.1253\n",
      "Epoch 18/30: loss=504.1069\n",
      "Epoch 19/30: loss=504.0183\n",
      "Epoch 20/30: loss=503.9347\n",
      "Epoch 21/30: loss=503.8007\n",
      "Epoch 22/30: loss=503.7684\n",
      "Epoch 23/30: loss=503.7382\n",
      "Epoch 24/30: loss=503.6292\n",
      "Epoch 25/30: loss=503.7026\n",
      "Epoch 26/30: loss=503.5364\n",
      "Epoch 27/30: loss=503.7495\n",
      "Epoch 28/30: loss=503.6891\n",
      "Epoch 29/30: loss=503.5445\n",
      "Epoch 30/30: loss=503.4579\n"
     ]
    }
   ],
   "source": [
    "model = VAE(num_hidden=8)\n",
    "train_vae(model)"
   ]
  },
  {
   "cell_type": "code",
   "execution_count": 10,
   "id": "2457da7aa8fc7e20",
   "metadata": {
    "colab": {
     "background_save": true
    },
    "id": "2457da7aa8fc7e20",
    "outputId": "9c1e3b37-ef76-4b4a-a730-7ef01698c223",
    "ExecuteTime": {
     "end_time": "2024-04-19T12:20:54.665994198Z",
     "start_time": "2024-04-19T12:20:54.608593630Z"
    }
   },
   "outputs": [
    {
     "data": {
      "text/plain": "<Figure size 640x480 with 1 Axes>",
      "image/png": "[encoded data removed]"
     },
     "metadata": {},
     "output_type": "display_data"
    }
   ],
   "source": [
    "model.eval()\n",
    "\n",
    "decoded = model.sample(1).view(-1, 28, 28).squeeze().cpu().numpy()\n",
    "\n",
    "plt.imshow(decoded, cmap=\"gray\")\n",
    "plt.show()"
   ]
  },
  {
   "cell_type": "code",
   "outputs": [
    {
     "name": "stdout",
     "output_type": "stream",
     "text": [
      "samplin from AE with 8 latent dim\n",
      "Original images\n"
     ]
    },
    {
     "data": {
      "text/plain": "<Figure size 1000x400 with 10 Axes>",
      "image/png": "[encoded data removed]"
     },
     "metadata": {},
     "output_type": "display_data"
    }
   ],
   "source": [
    "def sample_ae(model, num_samples=5):\n",
    "  print(f\"samplin from AE with {model.num_hidden} latent dim\")\n",
    "  model.eval()\n",
    "  with torch.no_grad():\n",
    "    latent = torch.randn(num_samples, model.num_hidden, device=device)\n",
    "    decoded = model.decoder(latent)\n",
    "    return decoded.view(-1, 28, 28).squeeze().cpu().numpy()\n",
    "  \n",
    "samples = 10\n",
    "decoded = sample_ae(model, num_samples=samples)\n",
    "\n",
    "plt.figure(figsize=(10, 4))\n",
    "print('Original images')\n",
    "for i in range(10):\n",
    "    plt.subplot(2, 10, i + 1)\n",
    "    plt.imshow(decoded[i], cmap='gray_r')\n",
    "    plt.axis('off')\n",
    "plt.show()"
   ],
   "metadata": {
    "collapsed": false,
    "ExecuteTime": {
     "end_time": "2024-04-19T12:21:43.077656591Z",
     "start_time": "2024-04-19T12:21:42.992056203Z"
    }
   },
   "id": "7793d2e3a79d68ff",
   "execution_count": 18
  },
  {
   "cell_type": "code",
   "execution_count": null,
   "id": "c8a75a63b090ea99",
   "metadata": {
    "colab": {
     "background_save": true
    },
    "id": "c8a75a63b090ea99",
    "outputId": "2c0b98be-568e-4848-95d7-5b06d68bd050"
   },
   "outputs": [
    {
     "data": {
      "image/png": "[encoded data removed]",
      "text/plain": [
       "<Figure size 640x480 with 1 Axes>"
      ]
     },
     "metadata": {},
     "output_type": "display_data"
    },
    {
     "data": {
      "image/png": "[encoded data removed]",
      "text/plain": [
       "<Figure size 640x480 with 1 Axes>"
      ]
     },
     "metadata": {},
     "output_type": "display_data"
    },
    {
     "data": {
      "image/png": "[encoded data removed]",
      "text/plain": [
       "<Figure size 640x480 with 1 Axes>"
      ]
     },
     "metadata": {},
     "output_type": "display_data"
    },
    {
     "data": {
      "image/png": "[encoded data removed]",
      "text/plain": [
       "<Figure size 640x480 with 1 Axes>"
      ]
     },
     "metadata": {},
     "output_type": "display_data"
    },
    {
     "data": {
      "image/png": "[encoded data removed]",
      "text/plain": [
       "<Figure size 640x480 with 1 Axes>"
      ]
     },
     "metadata": {},
     "output_type": "display_data"
    }
   ],
   "source": [
    "# Set number of images to print\n",
    "num_images = 5\n",
    "\n",
    "# Loop to generate and display images\n",
    "for _ in range(num_images):\n",
    "  model.eval()\n",
    "  decoded = model.sample(1).view(-1, 28, 28).squeeze().cpu().numpy()\n",
    "  plt.imshow(decoded, cmap=\"gray\")\n",
    "  plt.show()"
   ]
  },
  {
   "cell_type": "code",
   "execution_count": null,
   "id": "940639f2de8ee4fc",
   "metadata": {
    "colab": {
     "background_save": true
    },
    "id": "940639f2de8ee4fc",
    "outputId": "cce9177f-8093-4480-b562-b3217b2d06ec"
   },
   "outputs": [
    {
     "data": {
      "text/plain": [
       "VAE(\n",
       "  (encoder): Sequential(\n",
       "    (0): Linear(in_features=784, out_features=256, bias=True)\n",
       "    (1): ReLU()\n",
       "    (2): Linear(in_features=256, out_features=8, bias=True)\n",
       "    (3): ReLU()\n",
       "  )\n",
       "  (decoder): Sequential(\n",
       "    (0): Linear(in_features=8, out_features=256, bias=True)\n",
       "    (1): ReLU()\n",
       "    (2): Linear(in_features=256, out_features=784, bias=True)\n",
       "    (3): Sigmoid()\n",
       "  )\n",
       "  (mu): Linear(in_features=8, out_features=8, bias=True)\n",
       "  (log_var): Linear(in_features=8, out_features=8, bias=True)\n",
       ")"
      ]
     },
     "execution_count": 20,
     "metadata": {},
     "output_type": "execute_result"
    }
   ],
   "source": [
    "model"
   ]
  },
  {
   "cell_type": "code",
   "execution_count": null,
   "id": "2793532c5b3941a8",
   "metadata": {
    "colab": {
     "background_save": true
    },
    "id": "2793532c5b3941a8"
   },
   "outputs": [],
   "source": []
  }
 ],
 "metadata": {
  "accelerator": "GPU",
  "colab": {
   "gpuType": "T4",
   "provenance": []
  },
  "kernelspec": {
   "name": "python3",
   "language": "python",
   "display_name": "Python 3 (ipykernel)"
  },
  "language_info": {
   "codemirror_mode": {
    "name": "ipython",
    "version": 3
   },
   "file_extension": ".py",
   "mimetype": "text/x-python",
   "name": "python",
   "nbconvert_exporter": "python",
   "pygments_lexer": "ipython3",
   "version": "3.10.8"
  }
 },
 "nbformat": 4,
 "nbformat_minor": 5
}
