{
 "cells": [
  {
   "cell_type": "markdown",
   "id": "9901e6bfc105bab0",
   "metadata": {},
   "source": [
    "## VAEs- Deep Unsupervised Learning Project"
   ]
  },
  {
   "cell_type": "code",
   "execution_count": 10,
   "id": "initial_id",
   "metadata": {
    "ExecuteTime": {
     "end_time": "2024-04-10T18:00:52.821703864Z",
     "start_time": "2024-04-10T18:00:52.819691031Z"
    }
   },
   "outputs": [],
   "source": [
    "import numpy as np\n",
    "import matplotlib.pyplot as plt\n",
    "from torchvision import datasets, transforms\n",
    "import torch\n",
    "from torch import nn\n",
    "from torch import optim\n",
    "import torch.nn.functional as F\n",
    "from IPython.display import clear_output\n",
    "import time"
   ]
  },
  {
   "cell_type": "markdown",
   "id": "84e0235db2bf6799",
   "metadata": {},
   "source": [
    "### Import libraries\n",
    "### Choose device\n",
    "### Define transformations\n",
    "### Load datasets\n",
    "### Inspect a batch (for understanding)\n",
    "### Visualize sample images (for understanding)"
   ]
  },
  {
   "cell_type": "code",
   "execution_count": 11,
   "id": "e9e464a59b6d1c3f",
   "metadata": {
    "ExecuteTime": {
     "end_time": "2024-04-10T18:00:54.022147003Z",
     "start_time": "2024-04-10T18:00:53.980211014Z"
    }
   },
   "outputs": [
    {
     "name": "stdout",
     "output_type": "stream",
     "text": [
      "cuda\n"
     ]
    }
   ],
   "source": [
    "# Choose device\n",
    "\n",
    "device = (\"cuda\" if torch.cuda.is_available() else \"cpu\")\n",
    "print(device)\n",
    "\n",
    "\n",
    "# Define transformations\n",
    "transform = transforms.Compose([\n",
    "    transforms.ToTensor(),\n",
    "    transforms.Normalize((0.5,), (0.5,))\n",
    "])\n",
    "\n",
    "# Load datasets\n",
    "\n",
    "train_set = datasets.FashionMNIST('Data_FashionMNIST/', download=True, train=True, transform=transform)\n",
    "trainLoader = torch.utils.data.DataLoader(train_set, batch_size=64, shuffle=True)\n",
    "\n",
    "test_set = datasets.FashionMNIST('DATA_FashionMNIST/', download=True, train=False, transform=transform)\n",
    "testLoader = torch.utils.data.DataLoader(test_set, batch_size=64, shuffle=True)"
   ]
  },
  {
   "cell_type": "code",
   "execution_count": 12,
   "id": "257de657d55ab0a4",
   "metadata": {
    "ExecuteTime": {
     "end_time": "2024-04-10T18:00:54.752803792Z",
     "start_time": "2024-04-10T18:00:54.747888726Z"
    }
   },
   "outputs": [],
   "source": [
    "def visualize_reconstructed_batch(model, data, reconstructed_data):\n",
    "    # Get a grid of images from the batch\n",
    "    images = data.view(-1, 28, 28)\n",
    "    reconstructed_images = reconstructed_data.view(-1, 28, 28)\n",
    "    \n",
    "    # Ajustar el tamaño de la cuadrícula\n",
    "    fig, axs = plt.subplots(2, len(images), figsize=(10, 5))\n",
    "    \n",
    "    # Verificar la lógica de indexación\n",
    "    for i in range(len(reconstructed_images)):\n",
    "        axs[0, i].imshow(images[i].detach().numpy(), cmap=\"gray\")  # Salia un error relacionado a arrays, añadió detach() y numpy()\n",
    "        axs[0, i].set_title(\"Original\")\n",
    "        axs[0, i].axis('off')\n",
    "\n",
    "        axs[1, i].imshow(reconstructed_images[i].detach().numpy(), cmap=\"gray\")  # Se añadió detach() y numpy()\n",
    "        axs[1, i].set_title(\"Reconstructed\")\n",
    "        axs[1, i].axis('off')\n",
    "\n",
    "    fig.suptitle(\"Sample Reconstructed Images\")\n",
    "    plt.tight_layout()\n",
    "    plt.show()\n",
    "\n"
   ]
  },
  {
   "cell_type": "code",
   "outputs": [],
   "source": [
    "class AutoEncoder(nn.Module):\n",
    "    def __init__(self, num_hidden=8):\n",
    "        super().__init__()\n",
    "\n",
    "        # Set the number of hidden units\n",
    "        self.num_hidden = num_hidden\n",
    "\n",
    "        # Define the encoder part of the autoencoder\n",
    "        self.encoder = nn.Sequential(\n",
    "            nn.Linear(784, 256),  # input size: 784, output size: 256\n",
    "            nn.ReLU(),  # apply the ReLU activation function\n",
    "            nn.Linear(256, self.num_hidden),  # input size: 256, output size: num_hidden\n",
    "            nn.ReLU(),  # apply the ReLU activation function\n",
    "        )\n",
    "\n",
    "        # Define the decoder part of the autoencoder\n",
    "        self.decoder = nn.Sequential(\n",
    "            nn.Linear(self.num_hidden, 256),  # input size: num_hidden, output size: 256\n",
    "            nn.ReLU(),  # apply the ReLU activation function\n",
    "            nn.Linear(256, 784),  # input size: 256, output size: 784\n",
    "            nn.Sigmoid(),  # apply the sigmoid activation function to compress the output to a range of (0, 1)\n",
    "        )\n",
    "\n",
    "    def forward(self, x):\n",
    "        # Pass the input through the encoder\n",
    "        encoded = self.encoder(x)\n",
    "        # Pass the encoded representation through the decoder\n",
    "        decoded = self.decoder(encoded)\n",
    "        # Return both the encoded representation and the reconstructed output\n",
    "        return encoded, decoded"
   ],
   "metadata": {
    "collapsed": false,
    "ExecuteTime": {
     "end_time": "2024-04-10T18:07:28.836597692Z",
     "start_time": "2024-04-10T18:07:28.793412566Z"
    }
   },
   "id": "96474fe10ee2ecb0",
   "execution_count": 35
  },
  {
   "cell_type": "code",
   "execution_count": 46,
   "id": "4a93a3165e74d558",
   "metadata": {
    "ExecuteTime": {
     "end_time": "2024-04-10T18:11:24.176466704Z",
     "start_time": "2024-04-10T18:11:24.131443075Z"
    }
   },
   "outputs": [],
   "source": [
    "class VAE(AutoEncoder):\n",
    "    def __init__(self, num_hidden=8):\n",
    "        super().__init__(num_hidden=num_hidden)\n",
    "        # Add mu and log_var layers for reparameterization\n",
    "        self.mu = nn.Linear(self.num_hidden, self.num_hidden)\n",
    "        self.log_var = nn.Linear(self.num_hidden, self.num_hidden)\n",
    "\n",
    "    def reparameterize(self, mu, log_var):\n",
    "        # Compute the standard deviation from the log variance\n",
    "        std = torch.exp(0.5 * log_var)\n",
    "\n",
    "        # Generate random noise using the same shape as std\n",
    "        eps = torch.randn_like(std)\n",
    "\n",
    "        # Return the reparameterized sample\n",
    "        return mu + eps * std\n",
    "\n",
    "    def forward(self, x):\n",
    "        # Pass the input through the encoder\n",
    "        \n",
    "        encoded = self.encoder(x)\n",
    "        \n",
    "        # Compute the mean and log variance vectors\n",
    "        mu = self.mu(encoded)\n",
    "        log_var = self.log_var(encoded)\n",
    "\n",
    "        # Reparameterize the latent variable\n",
    "        z = self.reparameterize(mu, log_var)\n",
    "\n",
    "        # Pass the latent variable through the decoder\n",
    "        decoded = self.decoder(z)\n",
    "\n",
    "        # Return the encoded output, decoded output, mean, and log variance\n",
    "        return encoded, decoded, mu, log_var\n",
    "\n",
    "    def sample(self, num_samples):\n",
    "        with torch.no_grad():\n",
    "            # Generate random noise\n",
    "            z = torch.randn(num_samples, self.num_hidden).to(device)\n",
    "\n",
    "            # Pass the noise through the decoder to generate samples\n",
    "            samples = self.decoder(z)\n",
    "\n",
    "        # Return the generated samples\n",
    "        return samples"
   ]
  },
  {
   "cell_type": "code",
   "execution_count": 47,
   "id": "2a03efb73d510737",
   "metadata": {
    "ExecuteTime": {
     "end_time": "2024-04-10T18:11:24.760548944Z",
     "start_time": "2024-04-10T18:11:24.754440331Z"
    }
   },
   "outputs": [],
   "source": [
    "# Define a loss function that combines MSE and Kullback-Leibler divergence\n",
    "def vae_loss_function(recon_x, x, mu, logvar, lamb=3):\n",
    "    # Compute the MSE loss between the reconstructed output and the input data\n",
    "    MSE = F.mse_loss(recon_x, x.view(-1, 784), reduction=\"sum\")\n",
    "\n",
    "    # Compute the Kullback-Leibler divergence between the learned latent variable distribution and a standard Gaussian distribution\n",
    "    KLD = -0.5 * torch.sum(1 + logvar - mu.pow(2) - logvar.exp())\n",
    "\n",
    "    # Combine the two losses by adding them together and return the result\n",
    "    return MSE + lamb * KLD"
   ]
  },
  {
   "cell_type": "code",
   "outputs": [],
   "source": [
    "def train_vae(model, batch_size=64, learning_rate=1e-3, num_epochs=15):\n",
    "    # Convert the training data to PyTorch tensors\n",
    "    \n",
    "   \n",
    "    #X_train = torch.from_numpy(X_train_np)\n",
    "\n",
    "    # Create optimizer\n",
    "    optimizer = torch.optim.Adam(model.parameters(), lr=learning_rate)\n",
    "\n",
    "    # Set the device to GPU if available, otherwise use CPU\n",
    "    model.to(device)\n",
    "\n",
    "    # Create a DataLoader to handle batching of the training data\n",
    "    #train_loader = torch.utils.data.DataLoader(\n",
    "    #    X_train, batch_size=batch_size, shuffle=True\n",
    "    #)\n",
    "\n",
    "    # Training loop\n",
    "    for epoch in range(num_epochs):\n",
    "        total_loss = 0.0\n",
    "        for batch_idx, (data,_) in enumerate(trainLoader):\n",
    "            # Get a batch of training data and move it to the device\n",
    "            data = data.reshape(data.size(0),-1)\n",
    "            data = data.to(device)\n",
    "            \n",
    "            # Forward pass\n",
    "            encoded, decoded, mu, log_var = model(data)\n",
    "\n",
    "            # Compute the loss and perform backpropagation\n",
    "            loss = vae_loss_function(decoded, data, mu, log_var, lamb=3)/len(data)\n",
    "\n",
    "            optimizer.zero_grad()\n",
    "            loss.backward()\n",
    "            optimizer.step()\n",
    "\n",
    "            # Update the running loss\n",
    "            total_loss += loss.item() * data.size(0)\n",
    "\n",
    "        # Print the epoch loss\n",
    "        epoch_loss = total_loss / len(trainLoader.dataset)\n",
    "        print(\n",
    "            \"Epoch {}/{}: loss={:.4f}\".format(epoch + 1, num_epochs, epoch_loss)\n",
    "        )"
   ],
   "metadata": {
    "collapsed": false,
    "ExecuteTime": {
     "end_time": "2024-04-10T18:11:25.459873938Z",
     "start_time": "2024-04-10T18:11:25.451846890Z"
    }
   },
   "id": "4d04d920e2a85dd6",
   "execution_count": 48
  },
  {
   "cell_type": "code",
   "outputs": [
    {
     "name": "stdout",
     "output_type": "stream",
     "text": [
      "Epoch 1/15: loss=522.0777\n",
      "Epoch 2/15: loss=499.9878\n",
      "Epoch 3/15: loss=497.3742\n",
      "Epoch 4/15: loss=495.9762\n",
      "Epoch 5/15: loss=495.1929\n",
      "Epoch 6/15: loss=494.7374\n",
      "Epoch 7/15: loss=494.4061\n",
      "Epoch 8/15: loss=493.9987\n",
      "Epoch 9/15: loss=493.7538\n",
      "Epoch 10/15: loss=493.5060\n",
      "Epoch 11/15: loss=493.3572\n",
      "Epoch 12/15: loss=493.1289\n",
      "Epoch 13/15: loss=493.0620\n",
      "Epoch 14/15: loss=492.9190\n",
      "Epoch 15/15: loss=492.7985\n"
     ]
    }
   ],
   "source": [
    "model = VAE(num_hidden=8)\n",
    "train_vae(model)"
   ],
   "metadata": {
    "ExecuteTime": {
     "end_time": "2024-04-10T18:12:24.969650521Z",
     "start_time": "2024-04-10T18:11:26.517877021Z"
    }
   },
   "id": "d4465ed35cb5e6ca",
   "execution_count": 49
  },
  {
   "cell_type": "code",
   "outputs": [
    {
     "data": {
      "text/plain": "<Figure size 640x480 with 1 Axes>",
      "image/png": "[encoded data removed]"
     },
     "metadata": {},
     "output_type": "display_data"
    }
   ],
   "source": [
    "model.eval()\n",
    "\n",
    "decoded = model.sample(1).view(-1, 28, 28).squeeze().cpu().numpy()\n",
    "\n",
    "plt.imshow(decoded, cmap=\"gray\")\n",
    "plt.show()"
   ],
   "metadata": {
    "collapsed": false,
    "ExecuteTime": {
     "end_time": "2024-04-10T18:33:55.906645480Z",
     "start_time": "2024-04-10T18:33:55.855821089Z"
    }
   },
   "id": "2457da7aa8fc7e20",
   "execution_count": 90
  },
  {
   "cell_type": "code",
   "outputs": [],
   "source": [],
   "metadata": {
    "collapsed": false,
    "ExecuteTime": {
     "end_time": "2024-04-10T18:33:30.943408673Z",
     "start_time": "2024-04-10T18:33:30.939701200Z"
    }
   },
   "id": "c8a75a63b090ea99",
   "execution_count": 75
  },
  {
   "cell_type": "code",
   "outputs": [],
   "source": [],
   "metadata": {
    "collapsed": false
   },
   "id": "940639f2de8ee4fc"
  }
 ],
 "metadata": {
  "kernelspec": {
   "display_name": "Python 3 (ipykernel)",
   "language": "python",
   "name": "python3"
  },
  "language_info": {
   "codemirror_mode": {
    "name": "ipython",
    "version": 3
   },
   "file_extension": ".py",
   "mimetype": "text/x-python",
   "name": "python",
   "nbconvert_exporter": "python",
   "pygments_lexer": "ipython3",
   "version": "3.10.8"
  }
 },
 "nbformat": 4,
 "nbformat_minor": 5
}
