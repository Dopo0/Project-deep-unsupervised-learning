{
 "cells": [
  {
   "cell_type": "markdown",
   "id": "9901e6bfc105bab0",
   "metadata": {
    "id": "9901e6bfc105bab0"
   },
   "source": [
    "## VAEs- Deep Unsupervised Learning Project"
   ]
  },
  {
   "cell_type": "code",
   "execution_count": 1,
   "id": "initial_id",
   "metadata": {
    "id": "initial_id",
    "executionInfo": {
     "status": "ok",
     "timestamp": 1712927799416,
     "user_tz": 240,
     "elapsed": 5905,
     "user": {
      "displayName": "Diana Serna",
      "userId": "09676229743963525876"
     }
    },
    "ExecuteTime": {
     "end_time": "2024-04-15T19:05:57.831184818Z",
     "start_time": "2024-04-15T19:05:55.707552426Z"
    }
   },
   "outputs": [],
   "source": [
    "import numpy as np\n",
    "import matplotlib.pyplot as plt\n",
    "from torchvision import datasets, transforms\n",
    "import torch\n",
    "from torch import nn\n",
    "from torch import optim\n",
    "import torch.nn.functional as F\n",
    "from IPython.display import clear_output\n",
    "import time"
   ]
  },
  {
   "cell_type": "markdown",
   "id": "84e0235db2bf6799",
   "metadata": {
    "id": "84e0235db2bf6799"
   },
   "source": [
    "### Import libraries\n",
    "### Choose device\n",
    "### Define transformations\n",
    "### Load datasets\n",
    "### Inspect a batch (for understanding)\n",
    "### Visualize sample images (for understanding)"
   ]
  },
  {
   "cell_type": "code",
   "execution_count": 2,
   "id": "e9e464a59b6d1c3f",
   "metadata": {
    "colab": {
     "base_uri": "https://localhost:8080/"
    },
    "id": "e9e464a59b6d1c3f",
    "executionInfo": {
     "status": "ok",
     "timestamp": 1712927801997,
     "user_tz": 240,
     "elapsed": 2603,
     "user": {
      "displayName": "Diana Serna",
      "userId": "09676229743963525876"
     }
    },
    "outputId": "8e6ee58e-1f66-479b-bd91-2d7db033b696",
    "ExecuteTime": {
     "end_time": "2024-04-15T19:05:57.913241309Z",
     "start_time": "2024-04-15T19:05:57.851957256Z"
    }
   },
   "outputs": [
    {
     "name": "stdout",
     "output_type": "stream",
     "text": [
      "cuda\n"
     ]
    }
   ],
   "source": [
    "# Choose device\n",
    "\n",
    "device = (\"cuda\" if torch.cuda.is_available() else \"cpu\")\n",
    "print(device)\n",
    "\n",
    "\n",
    "# Define transformations\n",
    "transform = transforms.Compose([\n",
    "    transforms.ToTensor(),\n",
    "    transforms.Normalize((0.5,), (0.5,))\n",
    "])\n",
    "\n",
    "# Load datasets\n",
    "\n",
    "train_set = datasets.FashionMNIST('Data_FashionMNIST/', download=True, train=True, transform=transform)\n",
    "trainLoader = torch.utils.data.DataLoader(train_set, batch_size=64, shuffle=True)\n",
    "\n",
    "test_set = datasets.FashionMNIST('DATA_FashionMNIST/', download=True, train=False, transform=transform)\n",
    "testLoader = torch.utils.data.DataLoader(test_set, batch_size=64, shuffle=True)"
   ]
  },
  {
   "cell_type": "code",
   "execution_count": 3,
   "id": "257de657d55ab0a4",
   "metadata": {
    "id": "257de657d55ab0a4",
    "executionInfo": {
     "status": "ok",
     "timestamp": 1712927801997,
     "user_tz": 240,
     "elapsed": 54,
     "user": {
      "displayName": "Diana Serna",
      "userId": "09676229743963525876"
     }
    },
    "ExecuteTime": {
     "end_time": "2024-04-15T19:05:57.918296895Z",
     "start_time": "2024-04-15T19:05:57.916593050Z"
    }
   },
   "outputs": [],
   "source": [
    "def visualize_reconstructed_batch(model, data, reconstructed_data):\n",
    "    # Get a grid of images from the batch\n",
    "    images = data.view(-1, 28, 28)\n",
    "    reconstructed_images = reconstructed_data.view(-1, 28, 28)\n",
    "\n",
    "    # Ajustar el tamaño de la cuadrícula\n",
    "    fig, axs = plt.subplots(2, len(images), figsize=(10, 5))\n",
    "\n",
    "    # Verificar la lógica de indexación\n",
    "    for i in range(len(reconstructed_images)):\n",
    "        axs[0, i].imshow(images[i].detach().numpy(), cmap=\"gray\")  # Salia un error relacionado a arrays, añadió detach() y numpy()\n",
    "        axs[0, i].set_title(\"Original\")\n",
    "        axs[0, i].axis('off')\n",
    "\n",
    "        axs[1, i].imshow(reconstructed_images[i].detach().numpy(), cmap=\"gray\")  # Se añadió detach() y numpy()\n",
    "        axs[1, i].set_title(\"Reconstructed\")\n",
    "        axs[1, i].axis('off')\n",
    "\n",
    "    fig.suptitle(\"Sample Reconstructed Images\")\n",
    "    plt.tight_layout()\n",
    "    plt.show()\n",
    "\n"
   ]
  },
  {
   "cell_type": "code",
   "outputs": [],
   "source": [
    "class AutoEncoder(nn.Module):\n",
    "    def __init__(self, num_hidden=8):\n",
    "        super().__init__()\n",
    "\n",
    "        # Set the number of hidden units\n",
    "        self.num_hidden = num_hidden\n",
    "\n",
    "        # Define the encoder part of the autoencoder\n",
    "        self.encoder = nn.Sequential(\n",
    "            nn.Linear(784, 512),  # input size: 784, output size: 256\n",
    "            nn.ReLU(),  # apply the ReLU activation function\n",
    "            nn.Linear(512, 256),  # input size: 784, output size: 256\n",
    "            nn.ReLU(),  # apply the ReLU activation function\n",
    "            nn.Linear(256, self.num_hidden),  # input size: 64, output size: num_hidden\n",
    "            nn.ReLU(),  # apply the ReLU activation function\n",
    "        )\n",
    "\n",
    "        # Define the decoder part of the autoencoder\n",
    "        self.decoder = nn.Sequential(\n",
    "            nn.Linear(self.num_hidden, 256),  # input size: num_hidden, output size: 64\n",
    "            nn.ReLU(),  # apply the ReLU activation function\n",
    "            nn.Linear(256, 512),  # input size: 64, output size: 256\n",
    "            nn.ReLU(),  # apply the ReLU activation function\n",
    "            nn.Linear(512, 784),  # input size: 256, output size: 784\n",
    "            nn.Sigmoid(),  # apply the sigmoid activation function to compress the output to a range of (0, 1)\n",
    "        )\n",
    "\n",
    "    def forward(self, x):\n",
    "        # Pass the input through the encoder\n",
    "        encoded = self.encoder(x)\n",
    "        # Pass the encoded representation through the decoder\n",
    "        decoded = self.decoder(encoded)\n",
    "        # Return both the encoded representation and the reconstructed output\n",
    "        return encoded, decoded"
   ],
   "metadata": {
    "id": "96474fe10ee2ecb0",
    "executionInfo": {
     "status": "ok",
     "timestamp": 1712927801998,
     "user_tz": 240,
     "elapsed": 53,
     "user": {
      "displayName": "Diana Serna",
      "userId": "09676229743963525876"
     }
    },
    "ExecuteTime": {
     "end_time": "2024-04-15T19:05:58.250510079Z",
     "start_time": "2024-04-15T19:05:58.244741374Z"
    }
   },
   "id": "96474fe10ee2ecb0",
   "execution_count": 4
  },
  {
   "cell_type": "code",
   "execution_count": 5,
   "id": "4a93a3165e74d558",
   "metadata": {
    "id": "4a93a3165e74d558",
    "executionInfo": {
     "status": "ok",
     "timestamp": 1712927801998,
     "user_tz": 240,
     "elapsed": 52,
     "user": {
      "displayName": "Diana Serna",
      "userId": "09676229743963525876"
     }
    },
    "ExecuteTime": {
     "end_time": "2024-04-15T19:05:59.167707330Z",
     "start_time": "2024-04-15T19:05:59.163925118Z"
    }
   },
   "outputs": [],
   "source": [
    "class VAE(AutoEncoder):\n",
    "    def __init__(self, num_hidden=8):\n",
    "        super().__init__(num_hidden=num_hidden)\n",
    "        # Add mu and log_var layers for reparameterization\n",
    "        self.mu = nn.Linear(self.num_hidden, self.num_hidden)\n",
    "        self.log_var = nn.Linear(self.num_hidden, self.num_hidden)\n",
    "\n",
    "    def reparameterize(self, mu, log_var):\n",
    "        # Compute the standard deviation from the log variance\n",
    "        std = torch.exp(0.5 * log_var)\n",
    "\n",
    "        # Generate random noise using the same shape as std\n",
    "        eps = torch.randn_like(std)\n",
    "\n",
    "        # Return the reparameterized sample\n",
    "        return mu + eps * std\n",
    "\n",
    "    def forward(self, x):\n",
    "        # Pass the input through the encoder\n",
    "\n",
    "        encoded = self.encoder(x)\n",
    "\n",
    "        # Compute the mean and log variance vectors\n",
    "        mu = self.mu(encoded)\n",
    "        log_var = self.log_var(encoded)\n",
    "\n",
    "        # Reparameterize the latent variable\n",
    "        z = self.reparameterize(mu, log_var)\n",
    "\n",
    "        # Pass the latent variable through the decoder\n",
    "        decoded = self.decoder(z)\n",
    "\n",
    "        # Return the encoded output, decoded output, mean, and log variance\n",
    "        return encoded, decoded, mu, log_var\n",
    "\n",
    "    def sample(self, num_samples):\n",
    "        with torch.no_grad():\n",
    "            # Generate random noise\n",
    "            z = torch.randn(num_samples, self.num_hidden).to(device)\n",
    "\n",
    "            # Pass the noise through the decoder to generate samples\n",
    "            samples = self.decoder(z)\n",
    "\n",
    "        # Return the generated samples\n",
    "        return samples"
   ]
  },
  {
   "cell_type": "code",
   "execution_count": 6,
   "id": "2a03efb73d510737",
   "metadata": {
    "id": "2a03efb73d510737",
    "executionInfo": {
     "status": "ok",
     "timestamp": 1712927801998,
     "user_tz": 240,
     "elapsed": 52,
     "user": {
      "displayName": "Diana Serna",
      "userId": "09676229743963525876"
     }
    },
    "ExecuteTime": {
     "end_time": "2024-04-15T19:06:01.945340565Z",
     "start_time": "2024-04-15T19:06:01.941618504Z"
    }
   },
   "outputs": [],
   "source": [
    "# Define a loss function that combines MSE and Kullback-Leibler divergence\n",
    "def vae_loss_function(recon_x, x, mu, logvar, lamb=3):\n",
    "    # Compute the MSE loss between the reconstructed output and the input data\n",
    "    MSE = F.mse_loss(recon_x, x.view(-1, 784), reduction=\"sum\")\n",
    "\n",
    "    # Compute the Kullback-Leibler divergence between the learned latent variable distribution and a standard Gaussian distribution\n",
    "    KLD = -0.5 * torch.sum(1 + logvar - mu.pow(2) - logvar.exp())\n",
    "\n",
    "    # Combine the two losses by adding them together and return the result\n",
    "    return MSE + lamb * KLD"
   ]
  },
  {
   "cell_type": "code",
   "outputs": [],
   "source": [
    "def train_vae(model, batch_size=64, learning_rate=1e-3, num_epochs=30):\n",
    "    # Convert the training data to PyTorch tensors\n",
    "\n",
    "\n",
    "    #X_train = torch.from_numpy(X_train_np)\n",
    "\n",
    "    # Create optimizer\n",
    "    optimizer = torch.optim.Adam(model.parameters(), lr=learning_rate)\n",
    "\n",
    "    # Set the device to GPU if available, otherwise use CPU\n",
    "    model.to(device)\n",
    "\n",
    "    # Create a DataLoader to handle batching of the training data\n",
    "    #train_loader = torch.utils.data.DataLoader(\n",
    "    #    X_train, batch_size=batch_size, shuffle=True\n",
    "    #)\n",
    "\n",
    "    # Training loop\n",
    "    for epoch in range(num_epochs):\n",
    "        total_loss = 0.0\n",
    "        for batch_idx, (data,_) in enumerate(trainLoader):\n",
    "            # Get a batch of training data and move it to the device\n",
    "            data = data.reshape(data.size(0),-1)\n",
    "            data = data.to(device)\n",
    "\n",
    "            # Forward pass\n",
    "            encoded, decoded, mu, log_var = model(data)\n",
    "\n",
    "            # Compute the loss and perform backpropagation\n",
    "            loss = vae_loss_function(decoded, data, mu, log_var, lamb=3)/len(data)\n",
    "\n",
    "            optimizer.zero_grad()\n",
    "            loss.backward()\n",
    "            optimizer.step()\n",
    "\n",
    "            # Update the running loss\n",
    "            total_loss += loss.item() * data.size(0)\n",
    "\n",
    "        # Print the epoch loss\n",
    "        epoch_loss = total_loss / len(trainLoader.dataset)\n",
    "        print(\n",
    "            \"Epoch {}/{}: loss={:.4f}\".format(epoch + 1, num_epochs, epoch_loss)\n",
    "        )"
   ],
   "metadata": {
    "id": "4d04d920e2a85dd6",
    "executionInfo": {
     "status": "ok",
     "timestamp": 1712927801998,
     "user_tz": 240,
     "elapsed": 51,
     "user": {
      "displayName": "Diana Serna",
      "userId": "09676229743963525876"
     }
    },
    "ExecuteTime": {
     "end_time": "2024-04-15T19:06:43.842848185Z",
     "start_time": "2024-04-15T19:06:43.801209086Z"
    }
   },
   "id": "4d04d920e2a85dd6",
   "execution_count": 7
  },
  {
   "cell_type": "code",
   "outputs": [
    {
     "name": "stdout",
     "output_type": "stream",
     "text": [
      "Epoch 1/50: loss=518.1478\n",
      "Epoch 2/50: loss=504.1112\n",
      "Epoch 3/50: loss=499.1153\n",
      "Epoch 4/50: loss=497.3412\n",
      "Epoch 5/50: loss=496.3442\n",
      "Epoch 6/50: loss=495.8256\n",
      "Epoch 7/50: loss=495.3361\n",
      "Epoch 8/50: loss=495.0095\n",
      "Epoch 9/50: loss=494.5022\n",
      "Epoch 10/50: loss=493.8862\n",
      "Epoch 11/50: loss=493.4673\n",
      "Epoch 12/50: loss=493.0803\n",
      "Epoch 13/50: loss=492.7318\n",
      "Epoch 14/50: loss=492.4157\n",
      "Epoch 15/50: loss=492.1532\n",
      "Epoch 16/50: loss=491.7802\n",
      "Epoch 17/50: loss=491.5598\n",
      "Epoch 18/50: loss=491.3677\n",
      "Epoch 19/50: loss=491.3084\n",
      "Epoch 20/50: loss=491.1009\n",
      "Epoch 21/50: loss=491.0242\n",
      "Epoch 22/50: loss=490.9140\n",
      "Epoch 23/50: loss=490.8502\n",
      "Epoch 24/50: loss=490.6531\n",
      "Epoch 25/50: loss=490.5228\n",
      "Epoch 26/50: loss=490.3804\n",
      "Epoch 27/50: loss=490.2109\n",
      "Epoch 28/50: loss=490.2186\n",
      "Epoch 29/50: loss=490.1354\n",
      "Epoch 30/50: loss=490.1102\n",
      "Epoch 31/50: loss=490.0380\n",
      "Epoch 32/50: loss=490.0449\n",
      "Epoch 33/50: loss=489.8208\n",
      "Epoch 34/50: loss=489.7841\n",
      "Epoch 35/50: loss=489.8033\n",
      "Epoch 36/50: loss=489.7825\n",
      "Epoch 37/50: loss=489.7349\n",
      "Epoch 38/50: loss=489.7532\n",
      "Epoch 39/50: loss=489.6497\n",
      "Epoch 40/50: loss=489.6212\n",
      "Epoch 41/50: loss=489.6696\n",
      "Epoch 42/50: loss=489.6160\n",
      "Epoch 43/50: loss=489.5693\n",
      "Epoch 44/50: loss=489.5790\n",
      "Epoch 45/50: loss=489.6554\n",
      "Epoch 46/50: loss=489.5881\n",
      "Epoch 47/50: loss=489.4979\n",
      "Epoch 48/50: loss=489.4647\n",
      "Epoch 49/50: loss=489.5126\n",
      "Epoch 50/50: loss=489.4726\n"
     ]
    }
   ],
   "source": [
    "model = VAE(num_hidden=64)\n",
    "train_vae(model,num_epochs=50)"
   ],
   "metadata": {
    "colab": {
     "base_uri": "https://localhost:8080/"
    },
    "id": "d4465ed35cb5e6ca",
    "executionInfo": {
     "status": "ok",
     "timestamp": 1712928261410,
     "user_tz": 240,
     "elapsed": 370207,
     "user": {
      "displayName": "Diana Serna",
      "userId": "09676229743963525876"
     }
    },
    "outputId": "374efab4-e21b-4695-aa45-fcd6d75a2a51",
    "ExecuteTime": {
     "end_time": "2024-04-15T19:10:36.994612482Z",
     "start_time": "2024-04-15T19:06:44.538750106Z"
    }
   },
   "id": "d4465ed35cb5e6ca",
   "execution_count": 8
  },
  {
   "cell_type": "code",
   "outputs": [
    {
     "data": {
      "text/plain": "<Figure size 640x480 with 1 Axes>",
      "image/png": "[encoded data removed]"
     },
     "metadata": {},
     "output_type": "display_data"
    }
   ],
   "source": [
    "model.eval()\n",
    "\n",
    "decoded = model.sample(1).view(-1, 28, 28).squeeze().cpu().numpy()\n",
    "\n",
    "plt.imshow(decoded, cmap=\"gray\")\n",
    "plt.show()"
   ],
   "metadata": {
    "colab": {
     "base_uri": "https://localhost:8080/",
     "height": 430
    },
    "id": "2457da7aa8fc7e20",
    "executionInfo": {
     "status": "ok",
     "timestamp": 1712928261705,
     "user_tz": 240,
     "elapsed": 296,
     "user": {
      "displayName": "Diana Serna",
      "userId": "09676229743963525876"
     }
    },
    "outputId": "49d9f23a-5fdf-4334-af97-10d46620c644",
    "ExecuteTime": {
     "end_time": "2024-04-15T19:10:37.093519431Z",
     "start_time": "2024-04-15T19:10:36.995636990Z"
    }
   },
   "id": "2457da7aa8fc7e20",
   "execution_count": 9
  },
  {
   "cell_type": "code",
   "outputs": [
    {
     "data": {
      "text/plain": "<Figure size 640x480 with 1 Axes>",
      "image/png": "[encoded data removed]"
     },
     "metadata": {},
     "output_type": "display_data"
    },
    {
     "data": {
      "text/plain": "<Figure size 640x480 with 1 Axes>",
      "image/png": "[encoded data removed]"
     },
     "metadata": {},
     "output_type": "display_data"
    },
    {
     "data": {
      "text/plain": "<Figure size 640x480 with 1 Axes>",
      "image/png": "[encoded data removed]"
     },
     "metadata": {},
     "output_type": "display_data"
    },
    {
     "data": {
      "text/plain": "<Figure size 640x480 with 1 Axes>",
      "image/png": "[encoded data removed]"
     },
     "metadata": {},
     "output_type": "display_data"
    },
    {
     "data": {
      "text/plain": "<Figure size 640x480 with 1 Axes>",
      "image/png": "[encoded data removed]"
     },
     "metadata": {},
     "output_type": "display_data"
    }
   ],
   "source": [
    "# Set number of images to print\n",
    "num_images = 5\n",
    "\n",
    "# Loop to generate and display images\n",
    "for _ in range(num_images):\n",
    "  model.eval()\n",
    "  decoded = model.sample(1).view(-1, 28, 28).squeeze().cpu().numpy()\n",
    "  plt.imshow(decoded, cmap=\"gray\")\n",
    "  plt.show()"
   ],
   "metadata": {
    "colab": {
     "base_uri": "https://localhost:8080/",
     "height": 1000
    },
    "id": "c8a75a63b090ea99",
    "executionInfo": {
     "status": "ok",
     "timestamp": 1712928263159,
     "user_tz": 240,
     "elapsed": 1455,
     "user": {
      "displayName": "Diana Serna",
      "userId": "09676229743963525876"
     }
    },
    "outputId": "916632ff-048a-4a75-815f-82a67dc32652",
    "ExecuteTime": {
     "end_time": "2024-04-15T19:10:37.379122935Z",
     "start_time": "2024-04-15T19:10:37.094372133Z"
    }
   },
   "id": "c8a75a63b090ea99",
   "execution_count": 10
  },
  {
   "cell_type": "code",
   "outputs": [
    {
     "data": {
      "text/plain": "VAE(\n  (encoder): Sequential(\n    (0): Linear(in_features=784, out_features=512, bias=True)\n    (1): ReLU()\n    (2): Linear(in_features=512, out_features=256, bias=True)\n    (3): ReLU()\n    (4): Linear(in_features=256, out_features=64, bias=True)\n    (5): ReLU()\n  )\n  (decoder): Sequential(\n    (0): Linear(in_features=64, out_features=256, bias=True)\n    (1): ReLU()\n    (2): Linear(in_features=256, out_features=512, bias=True)\n    (3): ReLU()\n    (4): Linear(in_features=512, out_features=784, bias=True)\n    (5): Sigmoid()\n  )\n  (mu): Linear(in_features=64, out_features=64, bias=True)\n  (log_var): Linear(in_features=64, out_features=64, bias=True)\n)"
     },
     "execution_count": 11,
     "metadata": {},
     "output_type": "execute_result"
    }
   ],
   "source": [
    "model"
   ],
   "metadata": {
    "colab": {
     "base_uri": "https://localhost:8080/"
    },
    "id": "940639f2de8ee4fc",
    "executionInfo": {
     "status": "ok",
     "timestamp": 1712928263169,
     "user_tz": 240,
     "elapsed": 15,
     "user": {
      "displayName": "Diana Serna",
      "userId": "09676229743963525876"
     }
    },
    "outputId": "eac6efb1-af4d-458c-ab2e-2b3a34636c0c",
    "ExecuteTime": {
     "end_time": "2024-04-15T19:10:37.382801984Z",
     "start_time": "2024-04-15T19:10:37.379141816Z"
    }
   },
   "id": "940639f2de8ee4fc",
   "execution_count": 11
  },
  {
   "cell_type": "code",
   "execution_count": 16,
   "outputs": [
    {
     "name": "stdout",
     "output_type": "stream",
     "text": [
      "Original images\n"
     ]
    },
    {
     "data": {
      "text/plain": "<Figure size 1000x400 with 10 Axes>",
      "image/png": "[encoded data removed]"
     },
     "metadata": {},
     "output_type": "display_data"
    },
    {
     "name": "stdout",
     "output_type": "stream",
     "text": [
      "Reconstructed images\n"
     ]
    },
    {
     "data": {
      "text/plain": "<Figure size 1000x400 with 10 Axes>",
      "image/png": "[encoded data removed]"
     },
     "metadata": {},
     "output_type": "display_data"
    }
   ],
   "source": [
    "# Get a batch of test images\n",
    "dataiter = iter(testLoader)\n",
    "images, labels = next(dataiter)\n",
    "\n",
    "# Show original images\n",
    "plt.figure(figsize=(10, 4))\n",
    "print('Original images')\n",
    "for i in range(10):\n",
    "    plt.subplot(2, 10, i + 1)\n",
    "    plt.imshow(images[i].numpy().squeeze(), cmap='gray_r')\n",
    "    plt.axis('off')\n",
    "plt.show()\n",
    "\n",
    "# Show reconstructed images\n",
    "with torch.no_grad():\n",
    "    model.eval()\n",
    "    images = images.to(device)\n",
    "    images = images.reshape(images.size(0),-1)\n",
    "    encoded, outputs, _, _ = model(images)\n",
    "    outputs = outputs.view(-1,1,28, 28).cpu()\n",
    "    plt.figure(figsize=(10, 4))\n",
    "    print('Reconstructed images')\n",
    "    for i in range(10):\n",
    "        plt.subplot(2, 10, i + 1)\n",
    "        plt.imshow(outputs[i].numpy().squeeze(), cmap='gray_r')\n",
    "        plt.axis('off')\n",
    "    plt.show()"
   ],
   "metadata": {
    "colab": {
     "base_uri": "https://localhost:8080/",
     "height": 472
    },
    "id": "2793532c5b3941a8",
    "executionInfo": {
     "status": "error",
     "timestamp": 1712930058793,
     "user_tz": 240,
     "elapsed": 807,
     "user": {
      "displayName": "Diana Serna",
      "userId": "09676229743963525876"
     }
    },
    "outputId": "c0ee893d-d409-4bae-f359-8dbd69c98910",
    "ExecuteTime": {
     "end_time": "2024-04-15T19:11:08.112398203Z",
     "start_time": "2024-04-15T19:11:07.836244545Z"
    }
   },
   "id": "2793532c5b3941a8"
  },
  {
   "cell_type": "code",
   "outputs": [
    {
     "data": {
      "text/plain": "tensor([[0.0000, 0.0000, 0.0000,  ..., 0.4365, 0.0000, 2.2786],\n        [0.0000, 0.0000, 0.0000,  ..., 1.1168, 0.0000, 3.4685],\n        [0.9629, 0.0000, 0.0000,  ..., 0.0000, 0.0000, 0.0000],\n        ...,\n        [1.5282, 0.0000, 0.0000,  ..., 0.0000, 0.0000, 0.0000],\n        [0.0419, 0.0000, 0.0000,  ..., 0.0000, 0.0000, 2.2011],\n        [0.2070, 0.0000, 0.0000,  ..., 1.8261, 0.0000, 0.0613]],\n       device='cuda:0', grad_fn=<ReluBackward0>)"
     },
     "execution_count": 17,
     "metadata": {},
     "output_type": "execute_result"
    }
   ],
   "source": [
    "model.encoder(images)"
   ],
   "metadata": {
    "collapsed": false,
    "ExecuteTime": {
     "end_time": "2024-04-15T19:11:48.862780195Z",
     "start_time": "2024-04-15T19:11:48.814438418Z"
    }
   },
   "id": "b356376ccad69069",
   "execution_count": 17
  },
  {
   "cell_type": "code",
   "outputs": [],
   "source": [],
   "metadata": {
    "collapsed": false
   },
   "id": "774c9b271e7d4bc4"
  }
 ],
 "metadata": {
  "kernelspec": {
   "name": "python3",
   "language": "python",
   "display_name": "Python 3 (ipykernel)"
  },
  "language_info": {
   "codemirror_mode": {
    "name": "ipython",
    "version": 3
   },
   "file_extension": ".py",
   "mimetype": "text/x-python",
   "name": "python",
   "nbconvert_exporter": "python",
   "pygments_lexer": "ipython3",
   "version": "3.10.8"
  },
  "colab": {
   "provenance": [],
   "gpuType": "T4"
  },
  "accelerator": "GPU"
 },
 "nbformat": 4,
 "nbformat_minor": 5
}
