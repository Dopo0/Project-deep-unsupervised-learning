{
  "nbformat": 4,
  "nbformat_minor": 0,
  "metadata": {
    "colab": {
      "provenance": []
    },
    "kernelspec": {
      "name": "python3",
      "display_name": "Python 3"
    },
    "language_info": {
      "name": "python"
    }
  },
  "cells": [
    {
      "cell_type": "code",
      "execution_count": 9,
      "metadata": {
        "id": "j3H-w1VAeaXp"
      },
      "outputs": [],
      "source": [
        "from torchvision import datasets, transforms\n",
        "import torch\n",
        "from torch import nn\n",
        "from torch import optim\n",
        "import torch.nn.functional as F\n",
        "import time\n",
        "import matplotlib.pyplot as plt\n",
        "import numpy as np"
      ]
    },
    {
      "cell_type": "code",
      "source": [
        "device = (\"cuda\" if torch.cuda.is_available() else \"cpu\")\n",
        "print(device)\n",
        "transform = transforms.Compose([\n",
        "    transforms.ToTensor(),\n",
        "    transforms.Normalize((0.5,), (0.5,))\n",
        "])\n",
        "\n",
        "train_set = datasets.FashionMNIST('Data_FashionMNIST/', download=True, train=True, transform=transform)\n",
        "trainLoader = torch.utils.data.DataLoader(train_set, batch_size=64, shuffle=True)\n",
        "\n",
        "test_set = datasets.FashionMNIST('DATA_FashionMNIST/', download=True, train=False, transform=transform)\n",
        "testLoader = torch.utils.data.DataLoader(test_set, batch_size=64, shuffle=True)"
      ],
      "metadata": {
        "colab": {
          "base_uri": "https://localhost:8080/"
        },
        "id": "jZhPxvLReej_",
        "outputId": "e6e2ff39-d9b8-43a0-bd0e-e5d75840665b"
      },
      "execution_count": 10,
      "outputs": [
        {
          "output_type": "stream",
          "name": "stdout",
          "text": [
            "cpu\n"
          ]
        }
      ]
    },
    {
      "cell_type": "code",
      "source": [
        "training_data = enumerate(trainLoader)\n",
        "batch_idx, (images, labels) = next(training_data)\n",
        "print(type(images))\n",
        "print(images.shape)\n",
        "print(labels.shape)\n",
        "\n",
        "def show_images (images , labels):\n",
        "    fig = plt.figure()\n",
        "    for i in range(4):\n",
        "        plt.subplot(2, 2, i+1)\n",
        "        plt.imshow(images[i][0], cmap='gray')\n",
        "        #print(images[i][0].shape)\n",
        "        plt.title(\"Original Truth Label: {}\".format(labels[i]))\n",
        "        plt.yticks([])\n",
        "        plt.xticks([])\n",
        "    plt.show()\n",
        "\n",
        "def show_image (image , label):\n",
        "\n",
        "    plt.imshow(image, cmap='gray')\n",
        "    #print(images[i][0].shape)\n",
        "    #plt.title(\"Original Truth Label: {}\".format(label[i]))\n",
        "    plt.yticks([])\n",
        "    plt.xticks([])\n",
        "    plt.show()\n",
        "\n",
        "#show_image(images[0] , labels[0])\n"
      ],
      "metadata": {
        "colab": {
          "base_uri": "https://localhost:8080/"
        },
        "id": "_xgBX-WFel9j",
        "outputId": "8fa5a67a-2b4c-46c5-fdb1-01afcf3b6aa2"
      },
      "execution_count": 11,
      "outputs": [
        {
          "output_type": "stream",
          "name": "stdout",
          "text": [
            "<class 'torch.Tensor'>\n",
            "torch.Size([64, 1, 28, 28])\n",
            "torch.Size([64])\n"
          ]
        }
      ]
    },
    {
      "cell_type": "code",
      "source": [
        "def get_noise(n_samples, noise_vector_dimension, device='cpu'):\n",
        "    return torch.randn(n_samples, noise_vector_dimension, device=device)"
      ],
      "metadata": {
        "id": "SSfMMb4Oeqgm"
      },
      "execution_count": 12,
      "outputs": []
    },
    {
      "cell_type": "code",
      "source": [
        "class Generator(nn.Module):\n",
        "    def __init__(self, noise_dimension=100, hidden_dimension=128):\n",
        "        super(Generator, self).__init__()\n",
        "\n",
        "        self.n_dim = noise_dimension\n",
        "        self.h_dim = hidden_dimension\n",
        "\n",
        "        self.init_size = 7  # Initial size before upsampling\n",
        "        self.l1 = nn.Sequential(nn.Linear(self.n_dim, self.init_size * self.init_size * self.h_dim))\n",
        "\n",
        "        self.conv_blocks = nn.Sequential(\n",
        "            nn.BatchNorm2d(self.h_dim),\n",
        "            nn.Upsample(scale_factor=2),\n",
        "            nn.Conv2d(self.h_dim, self.h_dim // 2, 3, stride=1, padding=1),\n",
        "            nn.BatchNorm2d(self.h_dim // 2),\n",
        "            nn.ReLU(True),\n",
        "            nn.Upsample(scale_factor=2),\n",
        "            nn.Conv2d(self.h_dim // 2, 1, 3, stride=1, padding=1),\n",
        "            nn.Tanh(),\n",
        "        )\n",
        "\n",
        "    def forward(self, noise):\n",
        "        out = self.l1(noise)\n",
        "        out = out.view(out.shape[0], self.h_dim, self.init_size, self.init_size)\n",
        "        img = self.conv_blocks(out)\n",
        "        return img\n",
        "#%%\n",
        "class Discriminator(nn.Module):\n",
        "    def __init__(self):\n",
        "        super(Discriminator, self).__init__()\n",
        "\n",
        "        self.disc = nn.Sequential(\n",
        "            # Convolutional layer taking in 1 input channel (image), outputting 64 channels\n",
        "            nn.Conv2d(1, 64, kernel_size=5, stride=2, padding=2),  # 'same' padding in PyTorch is achieved with padding=2 for a 5x5 kernel\n",
        "            nn.LeakyReLU(0.3, inplace=True),\n",
        "            nn.Dropout(0.5),\n",
        "\n",
        "            # Second convolutional layer, 64 input channels, 128 output channels\n",
        "            nn.Conv2d(64, 128, kernel_size=5, stride=2, padding=2),\n",
        "            nn.LeakyReLU(0.3, inplace=True),\n",
        "            nn.Dropout(0.5),\n",
        "\n",
        "            # Flatten the output for the dense layer\n",
        "            nn.Flatten(),\n",
        "\n",
        "            # Final dense layer to get to 1 output\n",
        "            nn.Linear(128 * 7 * 7, 1),\n",
        "            nn.Sigmoid()\n",
        "        )\n",
        "\n",
        "    def forward(self, x):\n",
        "        return self.disc(x)"
      ],
      "metadata": {
        "id": "I10mOxVhesLA"
      },
      "execution_count": 13,
      "outputs": []
    },
    {
      "cell_type": "code",
      "source": [
        "discriminator = Discriminator()\n",
        "generator = Generator()"
      ],
      "metadata": {
        "id": "bwdE1c52e88A"
      },
      "execution_count": 14,
      "outputs": []
    },
    {
      "cell_type": "code",
      "source": [
        "# Training settings\n",
        "num_epochs = 50  # Number of epochs to train for\n",
        "batch_size = 64  # Batch size\n",
        "noise_dimension = 100  # Dimension of the noise vector\n",
        "data_loader = trainLoader\n",
        "# Define optimizers for both generator and discriminator\n",
        "optimizer_discriminator = optim.Adam(discriminator.parameters(), lr=0.0002)\n",
        "optimizer_generator = optim.Adam(generator.parameters(), lr=0.0002)\n",
        "\n",
        "# Binary cross-entropy loss\n",
        "criterion = nn.BCELoss()\n",
        "# Placeholder for logging\n",
        "losses = []\n",
        "\n",
        "for epoch in range(num_epochs):\n",
        "    for i, (images, _) in enumerate(data_loader):  # Loop through the data loader\n",
        "        # Reshape images to [N, C, H, W]\n",
        "        images = images.reshape(images.size(0), 1, 28, 28)  # Corrected line\n",
        "\n",
        "        # Train discriminator with real images\n",
        "        discriminator.zero_grad()\n",
        "        real_labels = torch.ones(images.size(0), 1)\n",
        "        real_loss = criterion(discriminator(images), real_labels)\n",
        "        real_loss.backward()\n",
        "\n",
        "        # Train discriminator with fake images\n",
        "        noise = torch.randn(batch_size, noise_dimension , device = device)\n",
        "        fake_images = generator(noise).reshape (images.size(0), 1, 28, 28)\n",
        "\n",
        "        #Train discriminator with fake images\n",
        "        fake_labels = torch.zeros(fake_images.size(0), 1, device = device)\n",
        "        fake_loss = criterion(discriminator(fake_images.detach()), fake_labels)\n",
        "        fake_loss.backward()\n",
        "        optimizer_discriminator.step()\n",
        "\n",
        "        # Train generator\n",
        "        generator.zero_grad()\n",
        "\n",
        "        #The generator's goal is to have the discriminator labelthse as real\n",
        "        fake_labels = torch.ones(fake_images.size(0), 1 , device = device)\n",
        "        gen_loss = criterion(discriminator(fake_images), fake_labels)\n",
        "        gen_loss.backward()\n",
        "        optimizer_generator.step()\n",
        "\n",
        "        # Logging and statistics\n",
        "        if (i + 1) % 100 == 0:\n",
        "            print(f\"Epoch [{epoch+1}/{num_epochs}], Step [{i+1}/{len(data_loader)}], D_loss: {real_loss.item() + fake_loss.item()}, G_loss: {gen_loss.item()}\")\n",
        "            losses.append((real_loss.item() + fake_loss.item(), gen_loss.item()))"
      ],
      "metadata": {
        "colab": {
          "base_uri": "https://localhost:8080/",
          "height": 408
        },
        "id": "KUsMhaW8e-yL",
        "outputId": "66f36834-5092-4b6b-d1f6-9b5e0ed53f2d"
      },
      "execution_count": 15,
      "outputs": [
        {
          "output_type": "stream",
          "name": "stdout",
          "text": [
            "Epoch [1/50], Step [100/938], D_loss: 1.494873285293579, G_loss: 1.2666552066802979\n",
            "Epoch [1/50], Step [200/938], D_loss: 0.9860086739063263, G_loss: 0.9647478461265564\n",
            "Epoch [1/50], Step [300/938], D_loss: 1.1327421069145203, G_loss: 1.2393110990524292\n"
          ]
        },
        {
          "output_type": "error",
          "ename": "KeyboardInterrupt",
          "evalue": "",
          "traceback": [
            "\u001b[0;31m---------------------------------------------------------------------------\u001b[0m",
            "\u001b[0;31mKeyboardInterrupt\u001b[0m                         Traceback (most recent call last)",
            "\u001b[0;32m<ipython-input-15-8f8fd04ab1c8>\u001b[0m in \u001b[0;36m<cell line: 15>\u001b[0;34m()\u001b[0m\n\u001b[1;32m     40\u001b[0m         \u001b[0mfake_labels\u001b[0m \u001b[0;34m=\u001b[0m \u001b[0mtorch\u001b[0m\u001b[0;34m.\u001b[0m\u001b[0mones\u001b[0m\u001b[0;34m(\u001b[0m\u001b[0mfake_images\u001b[0m\u001b[0;34m.\u001b[0m\u001b[0msize\u001b[0m\u001b[0;34m(\u001b[0m\u001b[0;36m0\u001b[0m\u001b[0;34m)\u001b[0m\u001b[0;34m,\u001b[0m \u001b[0;36m1\u001b[0m \u001b[0;34m,\u001b[0m \u001b[0mdevice\u001b[0m \u001b[0;34m=\u001b[0m \u001b[0mdevice\u001b[0m\u001b[0;34m)\u001b[0m\u001b[0;34m\u001b[0m\u001b[0;34m\u001b[0m\u001b[0m\n\u001b[1;32m     41\u001b[0m         \u001b[0mgen_loss\u001b[0m \u001b[0;34m=\u001b[0m \u001b[0mcriterion\u001b[0m\u001b[0;34m(\u001b[0m\u001b[0mdiscriminator\u001b[0m\u001b[0;34m(\u001b[0m\u001b[0mfake_images\u001b[0m\u001b[0;34m)\u001b[0m\u001b[0;34m,\u001b[0m \u001b[0mfake_labels\u001b[0m\u001b[0;34m)\u001b[0m\u001b[0;34m\u001b[0m\u001b[0;34m\u001b[0m\u001b[0m\n\u001b[0;32m---> 42\u001b[0;31m         \u001b[0mgen_loss\u001b[0m\u001b[0;34m.\u001b[0m\u001b[0mbackward\u001b[0m\u001b[0;34m(\u001b[0m\u001b[0;34m)\u001b[0m\u001b[0;34m\u001b[0m\u001b[0;34m\u001b[0m\u001b[0m\n\u001b[0m\u001b[1;32m     43\u001b[0m         \u001b[0moptimizer_generator\u001b[0m\u001b[0;34m.\u001b[0m\u001b[0mstep\u001b[0m\u001b[0;34m(\u001b[0m\u001b[0;34m)\u001b[0m\u001b[0;34m\u001b[0m\u001b[0;34m\u001b[0m\u001b[0m\n\u001b[1;32m     44\u001b[0m \u001b[0;34m\u001b[0m\u001b[0m\n",
            "\u001b[0;32m/usr/local/lib/python3.10/dist-packages/torch/_tensor.py\u001b[0m in \u001b[0;36mbackward\u001b[0;34m(self, gradient, retain_graph, create_graph, inputs)\u001b[0m\n\u001b[1;32m    520\u001b[0m                 \u001b[0minputs\u001b[0m\u001b[0;34m=\u001b[0m\u001b[0minputs\u001b[0m\u001b[0;34m,\u001b[0m\u001b[0;34m\u001b[0m\u001b[0;34m\u001b[0m\u001b[0m\n\u001b[1;32m    521\u001b[0m             )\n\u001b[0;32m--> 522\u001b[0;31m         torch.autograd.backward(\n\u001b[0m\u001b[1;32m    523\u001b[0m             \u001b[0mself\u001b[0m\u001b[0;34m,\u001b[0m \u001b[0mgradient\u001b[0m\u001b[0;34m,\u001b[0m \u001b[0mretain_graph\u001b[0m\u001b[0;34m,\u001b[0m \u001b[0mcreate_graph\u001b[0m\u001b[0;34m,\u001b[0m \u001b[0minputs\u001b[0m\u001b[0;34m=\u001b[0m\u001b[0minputs\u001b[0m\u001b[0;34m\u001b[0m\u001b[0;34m\u001b[0m\u001b[0m\n\u001b[1;32m    524\u001b[0m         )\n",
            "\u001b[0;32m/usr/local/lib/python3.10/dist-packages/torch/autograd/__init__.py\u001b[0m in \u001b[0;36mbackward\u001b[0;34m(tensors, grad_tensors, retain_graph, create_graph, grad_variables, inputs)\u001b[0m\n\u001b[1;32m    264\u001b[0m     \u001b[0;31m# some Python versions print out the first line of a multi-line function\u001b[0m\u001b[0;34m\u001b[0m\u001b[0;34m\u001b[0m\u001b[0m\n\u001b[1;32m    265\u001b[0m     \u001b[0;31m# calls in the traceback and some print out the last line\u001b[0m\u001b[0;34m\u001b[0m\u001b[0;34m\u001b[0m\u001b[0m\n\u001b[0;32m--> 266\u001b[0;31m     Variable._execution_engine.run_backward(  # Calls into the C++ engine to run the backward pass\n\u001b[0m\u001b[1;32m    267\u001b[0m         \u001b[0mtensors\u001b[0m\u001b[0;34m,\u001b[0m\u001b[0;34m\u001b[0m\u001b[0;34m\u001b[0m\u001b[0m\n\u001b[1;32m    268\u001b[0m         \u001b[0mgrad_tensors_\u001b[0m\u001b[0;34m,\u001b[0m\u001b[0;34m\u001b[0m\u001b[0;34m\u001b[0m\u001b[0m\n",
            "\u001b[0;31mKeyboardInterrupt\u001b[0m: "
          ]
        }
      ]
    },
    {
      "cell_type": "code",
      "source": [
        "def plot_fake_images(generator, noise_dimension, device):\n",
        "    noise = torch.randn(16, noise_dimension, device=device)\n",
        "    with torch.no_grad():\n",
        "        fake_images = generator(noise).reshape(-1, 1, 28, 28)\n",
        "        fake_images = fake_images.cpu().detach().numpy()\n",
        "\n",
        "    fig, axes = plt.subplots(4, 4, figsize=(10, 10))\n",
        "    for i, ax in enumerate(axes.flatten()):\n",
        "        img = fake_images[i].transpose(1, 2, 0)\n",
        "        img = ((img - img.min()) * (1 / (img.max() - img.min()) * 255)).astype(np.uint8)\n",
        "        ax.imshow(img, cmap='gray')\n",
        "        ax.axis('off')\n",
        "    plt.show()\n",
        "\n",
        "# Call the function to plot the fake images\n",
        "plot_fake_images(generator, noise_dimension, device)\n"
      ],
      "metadata": {
        "id": "OB0ArJ7XfBzF"
      },
      "execution_count": 7,
      "outputs": []
    }
  ]
}