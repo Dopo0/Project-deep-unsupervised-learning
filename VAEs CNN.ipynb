{
 "cells": [
  {
   "cell_type": "markdown",
   "id": "9901e6bfc105bab0",
   "metadata": {},
   "source": [
    "## VAEs- Deep Unsupervised Learning Project"
   ]
  },
  {
   "cell_type": "code",
   "execution_count": 1,
   "id": "initial_id",
   "metadata": {
    "ExecuteTime": {
     "end_time": "2024-04-12T13:16:27.672728198Z",
     "start_time": "2024-04-12T13:16:26.430379532Z"
    }
   },
   "outputs": [],
   "source": [
    "import numpy as np\n",
    "import matplotlib.pyplot as plt\n",
    "from torchvision import datasets, transforms\n",
    "import torch\n",
    "from torch import nn\n",
    "from torch import optim\n",
    "import torch.nn.functional as F\n",
    "from IPython.display import clear_output\n",
    "import time"
   ]
  },
  {
   "cell_type": "markdown",
   "id": "84e0235db2bf6799",
   "metadata": {},
   "source": [
    "### Import libraries\n",
    "### Choose device\n",
    "### Define transformations\n",
    "### Load datasets\n",
    "### Inspect a batch (for understanding)\n",
    "### Visualize sample images (for understanding)"
   ]
  },
  {
   "cell_type": "code",
   "execution_count": 2,
   "id": "e9e464a59b6d1c3f",
   "metadata": {
    "ExecuteTime": {
     "end_time": "2024-04-12T13:16:27.673142148Z",
     "start_time": "2024-04-12T13:16:27.672591321Z"
    }
   },
   "outputs": [
    {
     "name": "stdout",
     "output_type": "stream",
     "text": [
      "cuda\n"
     ]
    }
   ],
   "source": [
    "# Choose device\n",
    "\n",
    "device = (\"cuda\" if torch.cuda.is_available() else \"cpu\")\n",
    "print(device)\n",
    "\n",
    "\n",
    "# Define transformations\n",
    "transform = transforms.Compose([\n",
    "    transforms.ToTensor(),\n",
    "    transforms.Normalize((0.5,), (0.5,))\n",
    "])\n",
    "\n",
    "# Load datasets\n",
    "\n",
    "train_set = datasets.FashionMNIST('Data_FashionMNIST/', download=True, train=True, transform=transform)\n",
    "trainLoader = torch.utils.data.DataLoader(train_set, batch_size=64, shuffle=True)\n",
    "\n",
    "test_set = datasets.FashionMNIST('DATA_FashionMNIST/', download=True, train=False, transform=transform)\n",
    "testLoader = torch.utils.data.DataLoader(test_set, batch_size=64, shuffle=True)"
   ]
  },
  {
   "cell_type": "code",
   "execution_count": 3,
   "id": "257de657d55ab0a4",
   "metadata": {
    "ExecuteTime": {
     "end_time": "2024-04-12T13:16:27.678509993Z",
     "start_time": "2024-04-12T13:16:27.673211612Z"
    }
   },
   "outputs": [],
   "source": [
    "def visualize_reconstructed_batch(model, data, reconstructed_data):\n",
    "    # Get a grid of images from the batch\n",
    "    images = data.view(-1, 28, 28)\n",
    "    reconstructed_images = reconstructed_data.view(-1, 28, 28)\n",
    "    \n",
    "    # Ajustar el tamaño de la cuadrícula\n",
    "    fig, axs = plt.subplots(2, len(images), figsize=(10, 5))\n",
    "    \n",
    "    # Verificar la lógica de indexación\n",
    "    for i in range(len(reconstructed_images)):\n",
    "        axs[0, i].imshow(images[i].detach().numpy(), cmap=\"gray\")  # Salia un error relacionado a arrays, añadió detach() y numpy()\n",
    "        axs[0, i].set_title(\"Original\")\n",
    "        axs[0, i].axis('off')\n",
    "\n",
    "        axs[1, i].imshow(reconstructed_images[i].detach().numpy(), cmap=\"gray\")  # Se añadió detach() y numpy()\n",
    "        axs[1, i].set_title(\"Reconstructed\")\n",
    "        axs[1, i].axis('off')\n",
    "\n",
    "    fig.suptitle(\"Sample Reconstructed Images\")\n",
    "    plt.tight_layout()\n",
    "    plt.show()\n",
    "\n"
   ]
  },
  {
   "cell_type": "code",
   "outputs": [],
   "source": [
    "class ConvAutoEncoder(nn.Module):\n",
    "    def __init__(self, num_hidden=8):\n",
    "        super().__init__()\n",
    "        \n",
    "        # Set the number of hidden units\n",
    "        self.num_hidden = num_hidden\n",
    "        # Encoder layers\n",
    "        self.encoder = nn.Sequential(\n",
    "            nn.Conv2d(1, 32, kernel_size=3, stride=2, padding=1), \n",
    "            nn.ReLU(),\n",
    "            nn.Conv2d(32, 64, kernel_size=3, stride=2, padding=1),\n",
    "            nn.ReLU(),\n",
    "            nn.Flatten(),\n",
    "            nn.Linear(64*7*7, num_hidden)\n",
    "        )\n",
    "        \n",
    "        # Decoder layers\n",
    "        self.decoder = nn.Sequential(\n",
    "            nn.Linear(num_hidden, 32*7*7),\n",
    "            nn.ReLU(),\n",
    "            nn.Unflatten(1, (32, 7, 7)),\n",
    "            nn.ConvTranspose2d(32, 64, kernel_size=3, stride=2, padding=1, output_padding=1),\n",
    "            nn.ReLU(),\n",
    "            nn.ConvTranspose2d(64, 32, kernel_size=3, stride=2, padding=1, output_padding=1),\n",
    "            nn.ReLU(),\n",
    "            nn.ConvTranspose2d(32, 1, kernel_size=3, stride=1, padding=1)\n",
    "        )\n",
    "\n",
    "    def forward(self, x):\n",
    "        # Pass the input through the encoder\n",
    "        encoded = self.encoder(x)\n",
    "        # Pass the encoded representation through the decoder\n",
    "        decoded = self.decoder(encoded)\n",
    "        # Return both the encoded representation and the reconstructed output\n",
    "        return encoded, decoded\n",
    "\n"
   ],
   "metadata": {
    "collapsed": false,
    "ExecuteTime": {
     "end_time": "2024-04-12T13:32:34.476883444Z",
     "start_time": "2024-04-12T13:32:34.433300600Z"
    }
   },
   "id": "96474fe10ee2ecb0",
   "execution_count": 46
  },
  {
   "cell_type": "code",
   "execution_count": 51,
   "id": "4a93a3165e74d558",
   "metadata": {
    "ExecuteTime": {
     "end_time": "2024-04-12T13:32:51.972448042Z",
     "start_time": "2024-04-12T13:32:51.964484194Z"
    }
   },
   "outputs": [],
   "source": [
    "class ConvVAE(ConvAutoEncoder):\n",
    "    def __init__(self, num_hidden=8):\n",
    "        super().__init__(num_hidden=num_hidden)\n",
    "        # Add mu and log_var layers for reparameterization\n",
    "        self.encoded_size = num_hidden\n",
    "        self.mu = nn.Linear(self.encoded_size, self.num_hidden)\n",
    "        self.log_var = nn.Linear(self.encoded_size, self.num_hidden)\n",
    "\n",
    "    def reparameterize(self, mu, log_var):\n",
    "        # Compute the standard deviation from the log variance\n",
    "        std = torch.exp(0.5 * log_var)\n",
    "        # Generate random noise using the same shape as std\n",
    "        eps = torch.randn_like(std)\n",
    "        # Return the reparameterized sample\n",
    "        return mu + eps * std\n",
    "    \n",
    "    def sample(self, num_samples):\n",
    "        with torch.no_grad():\n",
    "            # Generate random noise\n",
    "            z = torch.randn(num_samples, self.num_hidden).to(device)\n",
    "            \n",
    "            # Pass the noise through the decoder to generate samples\n",
    "            print(z.shape)\n",
    "            samples = self.decoder(z)  # Reshape z to match decoder input size\n",
    "        # Return the generated samples\n",
    "        return samples\n",
    "    \n",
    "    def forward(self, x):\n",
    "        # Pass the input through the encoder\n",
    "        encoded = self.encoder(x)\n",
    "        #print(encoded.shape)\n",
    "        # Flatten the encoded representation\n",
    "        encoded_flat = torch.flatten(encoded, start_dim=1)\n",
    "        #print(encoded_flat.shape)\n",
    "        # Compute the mean and log variance vectors\n",
    "        mu = self.mu(encoded_flat)\n",
    "        log_var = self.log_var(encoded_flat)\n",
    "        # Reparameterize the latent variable\n",
    "        z = self.reparameterize(mu, log_var)\n",
    "        #print(z.shape)\n",
    "        # Pass the latent variable through the decoder\n",
    "        decoded = self.decoder(z)  # Reshape z to match decoder input size\n",
    "        #print(decoded.shape)\n",
    "        # Return the encoded output, decoded output, mean, and log variance\n",
    "        return encoded, decoded, mu, log_var\n",
    "\n",
    "    \n",
    "\n"
   ]
  },
  {
   "cell_type": "code",
   "execution_count": 52,
   "id": "2a03efb73d510737",
   "metadata": {
    "ExecuteTime": {
     "end_time": "2024-04-12T13:32:52.257491195Z",
     "start_time": "2024-04-12T13:32:52.255935620Z"
    }
   },
   "outputs": [],
   "source": [
    "# Define a loss function that combines MSE and Kullback-Leibler divergence\n",
    "def vae_loss_function(recon_x, x, mu, logvar, lamb=3):\n",
    "    # Compute the MSE loss between the reconstructed output and the input data\n",
    "    #y= x.view(-1, 784)\n",
    "    #print(recon_x.shape,y.shape)\n",
    "    MSE = F.mse_loss(recon_x, x, reduction=\"sum\")\n",
    "\n",
    "    # Compute the Kullback-Leibler divergence between the learned latent variable distribution and a standard Gaussian distribution\n",
    "    KLD = -0.5 * torch.sum(1 + logvar - mu.pow(2) - logvar.exp())\n",
    "\n",
    "    # Combine the two losses by adding them together and return the result\n",
    "    return MSE + lamb * KLD"
   ]
  },
  {
   "cell_type": "code",
   "outputs": [],
   "source": [
    "def train_vae(model, batch_size=64, learning_rate=1e-3, num_epochs=15):\n",
    "    # Convert the training data to PyTorch tensors\n",
    "    \n",
    "   \n",
    "    #X_train = torch.from_numpy(X_train_np)\n",
    "\n",
    "    # Create optimizer\n",
    "    optimizer = torch.optim.Adam(model.parameters(), lr=learning_rate)\n",
    "\n",
    "    # Set the device to GPU if available, otherwise use CPU\n",
    "    model.to(device)\n",
    "\n",
    "    # Create a DataLoader to handle batching of the training data\n",
    "    #train_loader = torch.utils.data.DataLoader(\n",
    "    #    X_train, batch_size=batch_size, shuffle=True\n",
    "    #)\n",
    "\n",
    "    # Training loop\n",
    "    for epoch in range(num_epochs):\n",
    "        total_loss = 0.0\n",
    "        for batch_idx, (data,_) in enumerate(trainLoader):\n",
    "            # Get a batch of training data and move it to the device           \n",
    "            data = data.to(device)\n",
    "            \n",
    "            # Forward pass\n",
    "            encoded, decoded, mu, log_var = model(data)\n",
    "\n",
    "            # Compute the loss and perform backpropagation\n",
    "            loss = vae_loss_function(decoded, data, mu, log_var, lamb=3)/len(data)\n",
    "\n",
    "            optimizer.zero_grad()\n",
    "            loss.backward()\n",
    "            optimizer.step()\n",
    "\n",
    "            # Update the running loss\n",
    "            total_loss += loss.item() * data.size(0)\n",
    "\n",
    "        # Print the epoch loss\n",
    "        epoch_loss = total_loss / len(trainLoader.dataset)\n",
    "        print(\n",
    "            \"Epoch {}/{}: loss={:.4f}\".format(epoch + 1, num_epochs, epoch_loss)\n",
    "        )"
   ],
   "metadata": {
    "collapsed": false,
    "ExecuteTime": {
     "end_time": "2024-04-12T13:32:52.633731357Z",
     "start_time": "2024-04-12T13:32:52.625906630Z"
    }
   },
   "id": "4d04d920e2a85dd6",
   "execution_count": 53
  },
  {
   "cell_type": "code",
   "outputs": [
    {
     "name": "stdout",
     "output_type": "stream",
     "text": [
      "Epoch 1/15: loss=129.3233\n",
      "Epoch 2/15: loss=101.6288\n",
      "Epoch 3/15: loss=96.6663\n",
      "Epoch 4/15: loss=94.1954\n",
      "Epoch 5/15: loss=92.4105\n",
      "Epoch 6/15: loss=91.4507\n",
      "Epoch 7/15: loss=90.7309\n",
      "Epoch 8/15: loss=90.1348\n",
      "Epoch 9/15: loss=89.6993\n",
      "Epoch 10/15: loss=89.2854\n",
      "Epoch 11/15: loss=88.9484\n",
      "Epoch 12/15: loss=88.6777\n",
      "Epoch 13/15: loss=88.3662\n",
      "Epoch 14/15: loss=88.2539\n",
      "Epoch 15/15: loss=87.9886\n"
     ]
    }
   ],
   "source": [
    "model = ConvVAE(num_hidden=8)\n",
    "train_vae(model)"
   ],
   "metadata": {
    "ExecuteTime": {
     "end_time": "2024-04-12T13:33:59.257021235Z",
     "start_time": "2024-04-12T13:32:52.892197137Z"
    }
   },
   "id": "d4465ed35cb5e6ca",
   "execution_count": 54
  },
  {
   "cell_type": "code",
   "outputs": [
    {
     "name": "stdout",
     "output_type": "stream",
     "text": [
      "torch.Size([1, 8])\n"
     ]
    },
    {
     "data": {
      "text/plain": "<Figure size 640x480 with 1 Axes>",
      "image/png": "[encoded data removed]"
     },
     "metadata": {},
     "output_type": "display_data"
    }
   ],
   "source": [
    "model.eval()\n",
    "\n",
    "decoded = model.sample(1).squeeze().cpu().numpy()\n",
    "\n",
    "plt.imshow(decoded, cmap=\"gray\")\n",
    "plt.show()"
   ],
   "metadata": {
    "collapsed": false,
    "ExecuteTime": {
     "end_time": "2024-04-12T13:26:55.182584991Z",
     "start_time": "2024-04-12T13:26:55.128559019Z"
    }
   },
   "id": "2457da7aa8fc7e20",
   "execution_count": 23
  },
  {
   "cell_type": "code",
   "outputs": [
    {
     "name": "stdout",
     "output_type": "stream",
     "text": [
      "torch.Size([1, 8])\n"
     ]
    },
    {
     "data": {
      "text/plain": "<Figure size 640x480 with 1 Axes>",
      "image/png": "[encoded data removed]"
     },
     "metadata": {},
     "output_type": "display_data"
    },
    {
     "name": "stdout",
     "output_type": "stream",
     "text": [
      "torch.Size([1, 8])\n"
     ]
    },
    {
     "data": {
      "text/plain": "<Figure size 640x480 with 1 Axes>",
      "image/png": "[encoded data removed]"
     },
     "metadata": {},
     "output_type": "display_data"
    },
    {
     "name": "stdout",
     "output_type": "stream",
     "text": [
      "torch.Size([1, 8])\n"
     ]
    },
    {
     "data": {
      "text/plain": "<Figure size 640x480 with 1 Axes>",
      "image/png": "[encoded data removed]"
     },
     "metadata": {},
     "output_type": "display_data"
    },
    {
     "name": "stdout",
     "output_type": "stream",
     "text": [
      "torch.Size([1, 8])\n"
     ]
    },
    {
     "data": {
      "text/plain": "<Figure size 640x480 with 1 Axes>",
      "image/png": "[encoded data removed]"
     },
     "metadata": {},
     "output_type": "display_data"
    },
    {
     "name": "stdout",
     "output_type": "stream",
     "text": [
      "torch.Size([1, 8])\n"
     ]
    },
    {
     "data": {
      "text/plain": "<Figure size 640x480 with 1 Axes>",
      "image/png": "[encoded data removed]"
     },
     "metadata": {},
     "output_type": "display_data"
    }
   ],
   "source": [
    "for i in range(5):\n",
    "    model.eval()\n",
    "\n",
    "    decoded = model.sample(1).squeeze().cpu().numpy()\n",
    "\n",
    "\n",
    "    plt.imshow(decoded, cmap=\"gray\")\n",
    "    plt.show()"
   ],
   "metadata": {
    "collapsed": false,
    "ExecuteTime": {
     "end_time": "2024-04-12T13:27:50.366672850Z",
     "start_time": "2024-04-12T13:27:50.103124386Z"
    }
   },
   "id": "c8a75a63b090ea99",
   "execution_count": 25
  },
  {
   "cell_type": "code",
   "outputs": [],
   "source": [],
   "metadata": {
    "collapsed": false,
    "ExecuteTime": {
     "start_time": "2024-04-12T13:17:32.852355905Z"
    }
   },
   "id": "940639f2de8ee4fc"
  }
 ],
 "metadata": {
  "kernelspec": {
   "display_name": "Python 3 (ipykernel)",
   "language": "python",
   "name": "python3"
  },
  "language_info": {
   "codemirror_mode": {
    "name": "ipython",
    "version": 3
   },
   "file_extension": ".py",
   "mimetype": "text/x-python",
   "name": "python",
   "nbconvert_exporter": "python",
   "pygments_lexer": "ipython3",
   "version": "3.10.8"
  }
 },
 "nbformat": 4,
 "nbformat_minor": 5
}
