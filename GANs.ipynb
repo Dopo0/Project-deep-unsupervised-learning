{
 "cells": [
  {
   "cell_type": "code",
   "execution_count": 1,
   "id": "initial_id",
   "metadata": {
    "collapsed": true,
    "ExecuteTime": {
     "end_time": "2024-03-30T20:53:17.989728Z",
     "start_time": "2024-03-30T20:52:56.068367Z"
    }
   },
   "outputs": [],
   "source": [
    "import numpy as np\n",
    "import matplotlib.pyplot as plt\n",
    "from torchvision import datasets, transforms\n",
    "import torch\n",
    "from torch import nn\n",
    "from torch import optim\n",
    "import torch.nn.functional as F\n",
    "import time"
   ]
  },
  {
   "cell_type": "code",
   "outputs": [
    {
     "name": "stdout",
     "output_type": "stream",
     "text": [
      "cpu\n"
     ]
    }
   ],
   "source": [
    "device = (\"cuda\" if torch.cuda.is_available() else \"cpu\")\n",
    "print(device)\n",
    "transform = transforms.Compose([\n",
    "    transforms.ToTensor(),\n",
    "    transforms.Normalize((0.5,), (0.5,))\n",
    "])\n",
    "\n",
    "train_set = datasets.FashionMNIST('Data_FashionMNIST/', download=True, train=True, transform=transform)\n",
    "trainLoader = torch.utils.data.DataLoader(train_set, batch_size=64, shuffle=True)\n",
    "\n",
    "test_set = datasets.FashionMNIST('DATA_FashionMNIST/', download=True, train=False, transform=transform)\n",
    "testLoader = torch.utils.data.DataLoader(test_set, batch_size=64, shuffle=True)"
   ],
   "metadata": {
    "collapsed": false,
    "ExecuteTime": {
     "end_time": "2024-03-30T20:53:24.403601Z",
     "start_time": "2024-03-30T20:53:24.076126Z"
    }
   },
   "id": "e9e464a59b6d1c3f",
   "execution_count": 2
  },
  {
   "cell_type": "code",
   "outputs": [
    {
     "name": "stdout",
     "output_type": "stream",
     "text": [
      "<class 'torch.Tensor'>\n",
      "torch.Size([64, 1, 28, 28])\n",
      "torch.Size([64])\n"
     ]
    },
    {
     "data": {
      "text/plain": "<Figure size 640x480 with 4 Axes>",
      "image/png": "[encoded data removed]"
     },
     "metadata": {},
     "output_type": "display_data"
    }
   ],
   "source": [
    "training_data = enumerate(trainLoader)\n",
    "batch_idx, (images, labels) = next(training_data)\n",
    "print(type(images))\n",
    "print(images.shape)\n",
    "print(labels.shape)\n",
    "\n",
    "def show_images (images , labels):\n",
    "    fig = plt.figure()\n",
    "    for i in range(4):\n",
    "        plt.subplot(2, 2, i+1)\n",
    "        plt.imshow(images[i][0], cmap='gray')\n",
    "        plt.title(\"Original Truth Label: {}\".format(labels[i]))\n",
    "        plt.yticks([])\n",
    "        plt.xticks([])\n",
    "    plt.show()\n",
    "\n",
    "show_images (images , labels)  \n"
   ],
   "metadata": {
    "collapsed": false,
    "ExecuteTime": {
     "end_time": "2024-03-30T22:30:32.927922Z",
     "start_time": "2024-03-30T22:30:32.456355Z"
    }
   },
   "id": "38348f75516d7c32",
   "execution_count": 57
  },
  {
   "cell_type": "code",
   "outputs": [],
   "source": [
    "def get_noise(n_samples, noise_vector_dimension, device='cpu'):\n",
    "    return torch.randn(n_samples, noise_vector_dimension, device=device)"
   ],
   "metadata": {
    "collapsed": false,
    "ExecuteTime": {
     "end_time": "2024-03-30T20:56:32.630058Z",
     "start_time": "2024-03-30T20:56:32.619148Z"
    }
   },
   "id": "b39e4937a6ba0ae6",
   "execution_count": 6
  },
  {
   "cell_type": "code",
   "outputs": [],
   "source": [
    "class Discriminator(nn.Module):\n",
    "    def __init__(self,\n",
    "                 image_dimension=784,\n",
    "                 hidden_dimension=128):\n",
    "        super().__init__()\n",
    "\n",
    "        self.im_dim = image_dimension\n",
    "        self.h_dim = hidden_dimension\n",
    "\n",
    "        self.disc = nn.Sequential(\n",
    "            self.discriminator_block(self.im_dim, self.h_dim * 4),\n",
    "            self.discriminator_block(self.h_dim * 4, self.h_dim * 2),\n",
    "            self.discriminator_block(self.h_dim * 2, self.h_dim),\n",
    "            nn.Linear(self.h_dim, 1)\n",
    "        )\n",
    "\n",
    "    def forward(self, image):\n",
    "        return self.disc(image)\n",
    "\n",
    "    def discriminator_block(self, in_dimension, out_dimension):\n",
    "      return nn.Sequential(\n",
    "           nn.Linear(in_dimension, out_dimension),\n",
    "           nn.LeakyReLU(0.2, inplace=True)\n",
    "      )"
   ],
   "metadata": {
    "collapsed": false,
    "ExecuteTime": {
     "end_time": "2024-03-30T21:05:01.603107Z",
     "start_time": "2024-03-30T21:05:01.589763Z"
    }
   },
   "id": "a5ad275ad51fca16",
   "execution_count": 7
  },
  {
   "cell_type": "code",
   "outputs": [],
   "source": [
    "class Generator(nn.Module):\n",
    "    def __init__(self, noise_dimension=10,\n",
    "                       image_dimension=784,\n",
    "                       hidden_dimension=128):\n",
    "        super().__init__()\n",
    "\n",
    "        self.n_dim = noise_dimension\n",
    "        self.im_dim = image_dimension\n",
    "        self.h_dim = hidden_dimension\n",
    "\n",
    "        # Generator network\n",
    "        self.gen = nn.Sequential(\n",
    "            self.generator_block(self.n_dim, self.h_dim),\n",
    "            self.generator_block(self.h_dim, self.h_dim * 2),\n",
    "            self.generator_block(self.h_dim * 2, self.h_dim * 4),\n",
    "            self.generator_block(self.h_dim * 4, self.h_dim * 8),\n",
    "            nn.Linear(self.h_dim * 8, self.im_dim),\n",
    "            nn.Sigmoid()\n",
    "        )\n",
    "\n",
    "    def forward(self, noise):\n",
    "        return self.gen(noise)\n",
    "\n",
    "    # Simple neural network single block\n",
    "    def generator_block(self, in_dimension, out_dimension):\n",
    "        return nn.Sequential(\n",
    "            nn.Linear(in_dimension, out_dimension),\n",
    "            nn.BatchNorm1d(out_dimension),\n",
    "            nn.ReLU(inplace=True),\n",
    "        )\n",
    "\n",
    "    def sample(self, num_samples):\n",
    "        with torch.no_grad():\n",
    "            # Generate random noise\n",
    "            fake_noise = get_noise(num_samples, self.n_dim, device=device)\n",
    "            fake = self.forward(fake_noise)\n",
    "        # Return the generated samples\n",
    "        return fake"
   ],
   "metadata": {
    "collapsed": false,
    "ExecuteTime": {
     "end_time": "2024-03-30T21:08:49.920529Z",
     "start_time": "2024-03-30T21:08:49.727981Z"
    }
   },
   "id": "e209b3ea92ac90e7",
   "execution_count": 8
  },
  {
   "cell_type": "code",
   "outputs": [],
   "source": [
    "def get_disc_loss(gen, disc, criterion, real, num_images, noise_dimension, device):\n",
    "    # Generate noise and pass to generator\n",
    "    fake_noise = get_noise(num_images, noise_dimension, device=device)\n",
    "    fake = gen(fake_noise)\n",
    "\n",
    "    # Pass fake features to discriminator\n",
    "    # All of them will got label as 0\n",
    "    # .detach() here is to ensure that only discriminator parameters will get update\n",
    "    disc_fake_pred = disc(fake.detach())\n",
    "    disc_fake_loss = criterion(disc_fake_pred,\n",
    "                               torch.zeros_like(disc_fake_pred))\n",
    "\n",
    "    # Pass real features to discriminator\n",
    "    # All of them will got label as 1\n",
    "    disc_real_pred = disc(real)\n",
    "    disc_real_loss = criterion(disc_real_pred,\n",
    "                               torch.ones_like(disc_real_pred))\n",
    "\n",
    "    # Average of loss from both real and fake features\n",
    "    disc_loss = (disc_fake_loss + disc_real_loss) / 2\n",
    "    return disc_loss\n",
    "\n",
    "def get_gen_loss(gen, disc, criterion, num_images, noise_dimension, device):\n",
    "    # Generate noise and pass to generator\n",
    "    fake_noise = get_noise(num_images, noise_dimension, device=device)\n",
    "    fake = gen(fake_noise)\n",
    "\n",
    "    # Pass fake features to discriminator\n",
    "    # But all of them will got label as 1\n",
    "    disc_fake_pred = disc(fake)\n",
    "    gen_loss = criterion(disc_fake_pred, torch.ones_like(disc_fake_pred))\n",
    "    return gen_loss"
   ],
   "metadata": {
    "collapsed": false,
    "ExecuteTime": {
     "end_time": "2024-03-30T21:33:11.706629Z",
     "start_time": "2024-03-30T21:33:11.654548Z"
    }
   },
   "id": "7cd07efa83a40c82",
   "execution_count": 9
  },
  {
   "cell_type": "code",
   "outputs": [],
   "source": [
    "device = \"cuda\" if torch.cuda.is_available() else \"cpu\"\n",
    "display_step = 50\n",
    "noise_dimension = 64"
   ],
   "metadata": {
    "collapsed": false,
    "ExecuteTime": {
     "end_time": "2024-03-30T21:33:29.776055Z",
     "start_time": "2024-03-30T21:33:29.764623Z"
    }
   },
   "id": "fbf16a469bcbbc2e",
   "execution_count": 10
  },
  {
   "cell_type": "code",
   "outputs": [],
   "source": [
    "def train(disc, gen, batch_size=64, learning_rate=1e-5, num_epochs=50):\n",
    "\n",
    "\n",
    "  # Define the loss function\n",
    "  criterion = nn.BCEWithLogitsLoss()\n",
    "\n",
    "  gen_opt = torch.optim.Adam(gen.parameters(), lr=learning_rate)\n",
    "  disc_opt = torch.optim.Adam(disc.parameters(), lr=learning_rate)\n",
    "\n",
    "\n",
    "  # Set the device to GPU if available, otherwise use CPU\n",
    "  disc.to(device)\n",
    "  gen.to(device)\n",
    "\n",
    "  trainLoader = torch.utils.data.DataLoader(train_set, batch_size=64, shuffle=True)\n",
    "\n",
    "  disc.train()\n",
    "  gen.train()\n",
    "\n",
    "  cur_step = 0\n",
    "  mean_generator_loss = 0\n",
    "  mean_discriminator_loss = 0\n",
    "  gen_loss = False\n",
    "\n",
    "  for epoch in range(num_epochs):\n",
    "      for batch_idx, (real, labels) in enumerate (trainLoader):\n",
    "\n",
    "          # Get number of batch size (number of image)\n",
    "          # And get tensor for each image in batch\n",
    "          cur_batch_size = len(real)\n",
    "          real = real.view(cur_batch_size, -1).to(device)\n",
    "\n",
    "\n",
    "          ### Traing discriminator ###\n",
    "          # Zero out the gradient .zero_grad()\n",
    "          # Calculate discriminator loss get_disc_loss()\n",
    "          # Update gradient .gradient()\n",
    "          # Update optimizer .step()\n",
    "          disc_opt.zero_grad()\n",
    "          disc_loss = get_disc_loss(gen, disc, criterion, real, cur_batch_size, noise_dimension, device)\n",
    "          disc_loss.backward(retain_graph=True)\n",
    "          disc_opt.step()\n",
    "\n",
    "          ### Traing generator ###\n",
    "          # Zero out the gradient .zero_grad()\n",
    "          # Calculate discriminator loss get_gen_loss()\n",
    "          # Update gradient .gradient()\n",
    "          # Update optimizer .step()\n",
    "          gen_opt.zero_grad()\n",
    "          gen_loss = get_gen_loss(gen, disc, criterion, cur_batch_size, noise_dimension, device)\n",
    "          gen_loss.backward()\n",
    "          gen_opt.step()\n",
    "\n",
    "          mean_discriminator_loss += disc_loss.item() / display_step\n",
    "          mean_generator_loss += gen_loss.item() / display_step\n",
    "\n",
    "          if cur_step % display_step == 0 and cur_step > 0:\n",
    "              print(f\"Epoch {cur_step/len(trainLoader)}: Generator loss: {mean_generator_loss}, discriminator loss: {mean_discriminator_loss}\")\n",
    "              mean_generator_loss = 0\n",
    "              mean_discriminator_loss = 0\n",
    "\n",
    "          cur_step += 1"
   ],
   "metadata": {
    "collapsed": false,
    "ExecuteTime": {
     "end_time": "2024-03-30T22:12:53.816021Z",
     "start_time": "2024-03-30T22:12:53.797471Z"
    }
   },
   "id": "20162b3c4908df2e",
   "execution_count": 44
  },
  {
   "cell_type": "code",
   "outputs": [],
   "source": [
    "def sample_gan(generator, num_samples=5):\n",
    "  generator.eval()\n",
    "\n",
    "  decoded = generator.sample(num_samples)\n",
    "\n",
    "  show_images(decoded[:num_samples].cpu(), labels=None)"
   ],
   "metadata": {
    "collapsed": false,
    "ExecuteTime": {
     "end_time": "2024-03-30T22:32:27.521809Z",
     "start_time": "2024-03-30T22:32:27.512702Z"
    }
   },
   "id": "489237087c114a34",
   "execution_count": 58
  },
  {
   "cell_type": "code",
   "outputs": [
    {
     "name": "stdout",
     "output_type": "stream",
     "text": [
      "Dataset FashionMNIST\n",
      "    Number of datapoints: 60000\n",
      "    Root location: Data_FashionMNIST/\n",
      "    Split: Train\n",
      "    StandardTransform\n",
      "Transform: Compose(\n",
      "               ToTensor()\n",
      "               Normalize(mean=(0.5,), std=(0.5,))\n",
      "           )\n"
     ]
    },
    {
     "ename": "KeyboardInterrupt",
     "evalue": "",
     "output_type": "error",
     "traceback": [
      "\u001B[1;31m---------------------------------------------------------------------------\u001B[0m",
      "\u001B[1;31mKeyboardInterrupt\u001B[0m                         Traceback (most recent call last)",
      "Cell \u001B[1;32mIn[59], line 4\u001B[0m\n\u001B[0;32m      1\u001B[0m gen \u001B[38;5;241m=\u001B[39m Generator(noise_dimension)\n\u001B[0;32m      2\u001B[0m disc \u001B[38;5;241m=\u001B[39m Discriminator()\n\u001B[1;32m----> 4\u001B[0m train(disc, gen)\n",
      "Cell \u001B[1;32mIn[44], line 27\u001B[0m, in \u001B[0;36mtrain\u001B[1;34m(disc, gen, batch_size, learning_rate, num_epochs)\u001B[0m\n\u001B[0;32m     24\u001B[0m gen_loss \u001B[38;5;241m=\u001B[39m \u001B[38;5;28;01mFalse\u001B[39;00m\n\u001B[0;32m     26\u001B[0m \u001B[38;5;28;01mfor\u001B[39;00m epoch \u001B[38;5;129;01min\u001B[39;00m \u001B[38;5;28mrange\u001B[39m(num_epochs):\n\u001B[1;32m---> 27\u001B[0m     \u001B[38;5;28;01mfor\u001B[39;00m batch_idx, (real, labels) \u001B[38;5;129;01min\u001B[39;00m \u001B[38;5;28menumerate\u001B[39m (trainLoader):\n\u001B[0;32m     28\u001B[0m \n\u001B[0;32m     29\u001B[0m         \u001B[38;5;66;03m# Get number of batch size (number of image)\u001B[39;00m\n\u001B[0;32m     30\u001B[0m         \u001B[38;5;66;03m# And get tensor for each image in batch\u001B[39;00m\n\u001B[0;32m     31\u001B[0m         cur_batch_size \u001B[38;5;241m=\u001B[39m \u001B[38;5;28mlen\u001B[39m(real)\n\u001B[0;32m     32\u001B[0m         real \u001B[38;5;241m=\u001B[39m real\u001B[38;5;241m.\u001B[39mview(cur_batch_size, \u001B[38;5;241m-\u001B[39m\u001B[38;5;241m1\u001B[39m)\u001B[38;5;241m.\u001B[39mto(device)\n",
      "File \u001B[1;32m~\\anaconda3\\Lib\\site-packages\\torch\\utils\\data\\dataloader.py:630\u001B[0m, in \u001B[0;36m_BaseDataLoaderIter.__next__\u001B[1;34m(self)\u001B[0m\n\u001B[0;32m    627\u001B[0m \u001B[38;5;28;01mif\u001B[39;00m \u001B[38;5;28mself\u001B[39m\u001B[38;5;241m.\u001B[39m_sampler_iter \u001B[38;5;129;01mis\u001B[39;00m \u001B[38;5;28;01mNone\u001B[39;00m:\n\u001B[0;32m    628\u001B[0m     \u001B[38;5;66;03m# TODO(https://github.com/pytorch/pytorch/issues/76750)\u001B[39;00m\n\u001B[0;32m    629\u001B[0m     \u001B[38;5;28mself\u001B[39m\u001B[38;5;241m.\u001B[39m_reset()  \u001B[38;5;66;03m# type: ignore[call-arg]\u001B[39;00m\n\u001B[1;32m--> 630\u001B[0m data \u001B[38;5;241m=\u001B[39m \u001B[38;5;28mself\u001B[39m\u001B[38;5;241m.\u001B[39m_next_data()\n\u001B[0;32m    631\u001B[0m \u001B[38;5;28mself\u001B[39m\u001B[38;5;241m.\u001B[39m_num_yielded \u001B[38;5;241m+\u001B[39m\u001B[38;5;241m=\u001B[39m \u001B[38;5;241m1\u001B[39m\n\u001B[0;32m    632\u001B[0m \u001B[38;5;28;01mif\u001B[39;00m \u001B[38;5;28mself\u001B[39m\u001B[38;5;241m.\u001B[39m_dataset_kind \u001B[38;5;241m==\u001B[39m _DatasetKind\u001B[38;5;241m.\u001B[39mIterable \u001B[38;5;129;01mand\u001B[39;00m \\\n\u001B[0;32m    633\u001B[0m         \u001B[38;5;28mself\u001B[39m\u001B[38;5;241m.\u001B[39m_IterableDataset_len_called \u001B[38;5;129;01mis\u001B[39;00m \u001B[38;5;129;01mnot\u001B[39;00m \u001B[38;5;28;01mNone\u001B[39;00m \u001B[38;5;129;01mand\u001B[39;00m \\\n\u001B[0;32m    634\u001B[0m         \u001B[38;5;28mself\u001B[39m\u001B[38;5;241m.\u001B[39m_num_yielded \u001B[38;5;241m>\u001B[39m \u001B[38;5;28mself\u001B[39m\u001B[38;5;241m.\u001B[39m_IterableDataset_len_called:\n",
      "File \u001B[1;32m~\\anaconda3\\Lib\\site-packages\\torch\\utils\\data\\dataloader.py:674\u001B[0m, in \u001B[0;36m_SingleProcessDataLoaderIter._next_data\u001B[1;34m(self)\u001B[0m\n\u001B[0;32m    672\u001B[0m \u001B[38;5;28;01mdef\u001B[39;00m \u001B[38;5;21m_next_data\u001B[39m(\u001B[38;5;28mself\u001B[39m):\n\u001B[0;32m    673\u001B[0m     index \u001B[38;5;241m=\u001B[39m \u001B[38;5;28mself\u001B[39m\u001B[38;5;241m.\u001B[39m_next_index()  \u001B[38;5;66;03m# may raise StopIteration\u001B[39;00m\n\u001B[1;32m--> 674\u001B[0m     data \u001B[38;5;241m=\u001B[39m \u001B[38;5;28mself\u001B[39m\u001B[38;5;241m.\u001B[39m_dataset_fetcher\u001B[38;5;241m.\u001B[39mfetch(index)  \u001B[38;5;66;03m# may raise StopIteration\u001B[39;00m\n\u001B[0;32m    675\u001B[0m     \u001B[38;5;28;01mif\u001B[39;00m \u001B[38;5;28mself\u001B[39m\u001B[38;5;241m.\u001B[39m_pin_memory:\n\u001B[0;32m    676\u001B[0m         data \u001B[38;5;241m=\u001B[39m _utils\u001B[38;5;241m.\u001B[39mpin_memory\u001B[38;5;241m.\u001B[39mpin_memory(data, \u001B[38;5;28mself\u001B[39m\u001B[38;5;241m.\u001B[39m_pin_memory_device)\n",
      "File \u001B[1;32m~\\anaconda3\\Lib\\site-packages\\torch\\utils\\data\\_utils\\fetch.py:51\u001B[0m, in \u001B[0;36m_MapDatasetFetcher.fetch\u001B[1;34m(self, possibly_batched_index)\u001B[0m\n\u001B[0;32m     49\u001B[0m         data \u001B[38;5;241m=\u001B[39m \u001B[38;5;28mself\u001B[39m\u001B[38;5;241m.\u001B[39mdataset\u001B[38;5;241m.\u001B[39m__getitems__(possibly_batched_index)\n\u001B[0;32m     50\u001B[0m     \u001B[38;5;28;01melse\u001B[39;00m:\n\u001B[1;32m---> 51\u001B[0m         data \u001B[38;5;241m=\u001B[39m [\u001B[38;5;28mself\u001B[39m\u001B[38;5;241m.\u001B[39mdataset[idx] \u001B[38;5;28;01mfor\u001B[39;00m idx \u001B[38;5;129;01min\u001B[39;00m possibly_batched_index]\n\u001B[0;32m     52\u001B[0m \u001B[38;5;28;01melse\u001B[39;00m:\n\u001B[0;32m     53\u001B[0m     data \u001B[38;5;241m=\u001B[39m \u001B[38;5;28mself\u001B[39m\u001B[38;5;241m.\u001B[39mdataset[possibly_batched_index]\n",
      "File \u001B[1;32m~\\anaconda3\\Lib\\site-packages\\torch\\utils\\data\\_utils\\fetch.py:51\u001B[0m, in \u001B[0;36m<listcomp>\u001B[1;34m(.0)\u001B[0m\n\u001B[0;32m     49\u001B[0m         data \u001B[38;5;241m=\u001B[39m \u001B[38;5;28mself\u001B[39m\u001B[38;5;241m.\u001B[39mdataset\u001B[38;5;241m.\u001B[39m__getitems__(possibly_batched_index)\n\u001B[0;32m     50\u001B[0m     \u001B[38;5;28;01melse\u001B[39;00m:\n\u001B[1;32m---> 51\u001B[0m         data \u001B[38;5;241m=\u001B[39m [\u001B[38;5;28mself\u001B[39m\u001B[38;5;241m.\u001B[39mdataset[idx] \u001B[38;5;28;01mfor\u001B[39;00m idx \u001B[38;5;129;01min\u001B[39;00m possibly_batched_index]\n\u001B[0;32m     52\u001B[0m \u001B[38;5;28;01melse\u001B[39;00m:\n\u001B[0;32m     53\u001B[0m     data \u001B[38;5;241m=\u001B[39m \u001B[38;5;28mself\u001B[39m\u001B[38;5;241m.\u001B[39mdataset[possibly_batched_index]\n",
      "File \u001B[1;32m~\\anaconda3\\Lib\\site-packages\\torchvision\\datasets\\mnist.py:145\u001B[0m, in \u001B[0;36mMNIST.__getitem__\u001B[1;34m(self, index)\u001B[0m\n\u001B[0;32m    142\u001B[0m img \u001B[38;5;241m=\u001B[39m Image\u001B[38;5;241m.\u001B[39mfromarray(img\u001B[38;5;241m.\u001B[39mnumpy(), mode\u001B[38;5;241m=\u001B[39m\u001B[38;5;124m\"\u001B[39m\u001B[38;5;124mL\u001B[39m\u001B[38;5;124m\"\u001B[39m)\n\u001B[0;32m    144\u001B[0m \u001B[38;5;28;01mif\u001B[39;00m \u001B[38;5;28mself\u001B[39m\u001B[38;5;241m.\u001B[39mtransform \u001B[38;5;129;01mis\u001B[39;00m \u001B[38;5;129;01mnot\u001B[39;00m \u001B[38;5;28;01mNone\u001B[39;00m:\n\u001B[1;32m--> 145\u001B[0m     img \u001B[38;5;241m=\u001B[39m \u001B[38;5;28mself\u001B[39m\u001B[38;5;241m.\u001B[39mtransform(img)\n\u001B[0;32m    147\u001B[0m \u001B[38;5;28;01mif\u001B[39;00m \u001B[38;5;28mself\u001B[39m\u001B[38;5;241m.\u001B[39mtarget_transform \u001B[38;5;129;01mis\u001B[39;00m \u001B[38;5;129;01mnot\u001B[39;00m \u001B[38;5;28;01mNone\u001B[39;00m:\n\u001B[0;32m    148\u001B[0m     target \u001B[38;5;241m=\u001B[39m \u001B[38;5;28mself\u001B[39m\u001B[38;5;241m.\u001B[39mtarget_transform(target)\n",
      "File \u001B[1;32m~\\anaconda3\\Lib\\site-packages\\torchvision\\transforms\\transforms.py:95\u001B[0m, in \u001B[0;36mCompose.__call__\u001B[1;34m(self, img)\u001B[0m\n\u001B[0;32m     93\u001B[0m \u001B[38;5;28;01mdef\u001B[39;00m \u001B[38;5;21m__call__\u001B[39m(\u001B[38;5;28mself\u001B[39m, img):\n\u001B[0;32m     94\u001B[0m     \u001B[38;5;28;01mfor\u001B[39;00m t \u001B[38;5;129;01min\u001B[39;00m \u001B[38;5;28mself\u001B[39m\u001B[38;5;241m.\u001B[39mtransforms:\n\u001B[1;32m---> 95\u001B[0m         img \u001B[38;5;241m=\u001B[39m t(img)\n\u001B[0;32m     96\u001B[0m     \u001B[38;5;28;01mreturn\u001B[39;00m img\n",
      "File \u001B[1;32m~\\anaconda3\\Lib\\site-packages\\torchvision\\transforms\\transforms.py:137\u001B[0m, in \u001B[0;36mToTensor.__call__\u001B[1;34m(self, pic)\u001B[0m\n\u001B[0;32m    129\u001B[0m \u001B[38;5;28;01mdef\u001B[39;00m \u001B[38;5;21m__call__\u001B[39m(\u001B[38;5;28mself\u001B[39m, pic):\n\u001B[0;32m    130\u001B[0m \u001B[38;5;250m    \u001B[39m\u001B[38;5;124;03m\"\"\"\u001B[39;00m\n\u001B[0;32m    131\u001B[0m \u001B[38;5;124;03m    Args:\u001B[39;00m\n\u001B[0;32m    132\u001B[0m \u001B[38;5;124;03m        pic (PIL Image or numpy.ndarray): Image to be converted to tensor.\u001B[39;00m\n\u001B[1;32m   (...)\u001B[0m\n\u001B[0;32m    135\u001B[0m \u001B[38;5;124;03m        Tensor: Converted image.\u001B[39;00m\n\u001B[0;32m    136\u001B[0m \u001B[38;5;124;03m    \"\"\"\u001B[39;00m\n\u001B[1;32m--> 137\u001B[0m     \u001B[38;5;28;01mreturn\u001B[39;00m F\u001B[38;5;241m.\u001B[39mto_tensor(pic)\n",
      "File \u001B[1;32m~\\anaconda3\\Lib\\site-packages\\torchvision\\transforms\\functional.py:166\u001B[0m, in \u001B[0;36mto_tensor\u001B[1;34m(pic)\u001B[0m\n\u001B[0;32m    164\u001B[0m \u001B[38;5;66;03m# handle PIL Image\u001B[39;00m\n\u001B[0;32m    165\u001B[0m mode_to_nptype \u001B[38;5;241m=\u001B[39m {\u001B[38;5;124m\"\u001B[39m\u001B[38;5;124mI\u001B[39m\u001B[38;5;124m\"\u001B[39m: np\u001B[38;5;241m.\u001B[39mint32, \u001B[38;5;124m\"\u001B[39m\u001B[38;5;124mI;16\u001B[39m\u001B[38;5;124m\"\u001B[39m: np\u001B[38;5;241m.\u001B[39mint16, \u001B[38;5;124m\"\u001B[39m\u001B[38;5;124mF\u001B[39m\u001B[38;5;124m\"\u001B[39m: np\u001B[38;5;241m.\u001B[39mfloat32}\n\u001B[1;32m--> 166\u001B[0m img \u001B[38;5;241m=\u001B[39m torch\u001B[38;5;241m.\u001B[39mfrom_numpy(np\u001B[38;5;241m.\u001B[39marray(pic, mode_to_nptype\u001B[38;5;241m.\u001B[39mget(pic\u001B[38;5;241m.\u001B[39mmode, np\u001B[38;5;241m.\u001B[39muint8), copy\u001B[38;5;241m=\u001B[39m\u001B[38;5;28;01mTrue\u001B[39;00m))\n\u001B[0;32m    168\u001B[0m \u001B[38;5;28;01mif\u001B[39;00m pic\u001B[38;5;241m.\u001B[39mmode \u001B[38;5;241m==\u001B[39m \u001B[38;5;124m\"\u001B[39m\u001B[38;5;124m1\u001B[39m\u001B[38;5;124m\"\u001B[39m:\n\u001B[0;32m    169\u001B[0m     img \u001B[38;5;241m=\u001B[39m \u001B[38;5;241m255\u001B[39m \u001B[38;5;241m*\u001B[39m img\n",
      "\u001B[1;31mKeyboardInterrupt\u001B[0m: "
     ]
    }
   ],
   "source": [
    "gen = Generator(noise_dimension)\n",
    "disc = Discriminator()\n",
    "\n",
    "train(disc, gen)"
   ],
   "metadata": {
    "collapsed": false,
    "ExecuteTime": {
     "end_time": "2024-03-30T22:32:35.045605Z",
     "start_time": "2024-03-30T22:32:28.809755Z"
    }
   },
   "id": "473d492332c55c45",
   "execution_count": 59
  },
  {
   "cell_type": "code",
   "outputs": [],
   "source": [
    "sample_gan(gen.to(device), num_samples=5)"
   ],
   "metadata": {
    "collapsed": false
   },
   "id": "10aa9599c154e638"
  }
 ],
 "metadata": {
  "kernelspec": {
   "display_name": "Python 3",
   "language": "python",
   "name": "python3"
  },
  "language_info": {
   "codemirror_mode": {
    "name": "ipython",
    "version": 2
   },
   "file_extension": ".py",
   "mimetype": "text/x-python",
   "name": "python",
   "nbconvert_exporter": "python",
   "pygments_lexer": "ipython2",
   "version": "2.7.6"
  }
 },
 "nbformat": 4,
 "nbformat_minor": 5
}
