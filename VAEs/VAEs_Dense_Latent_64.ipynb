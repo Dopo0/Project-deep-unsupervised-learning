{
 "cells": [
  {
   "cell_type": "markdown",
   "id": "9901e6bfc105bab0",
   "metadata": {
    "id": "9901e6bfc105bab0"
   },
   "source": [
    "## VAEs- Deep Unsupervised Learning Project"
   ]
  },
  {
   "cell_type": "code",
   "execution_count": 1,
   "id": "initial_id",
   "metadata": {
    "id": "initial_id",
    "executionInfo": {
     "status": "ok",
     "timestamp": 1712927799416,
     "user_tz": 240,
     "elapsed": 5905,
     "user": {
      "displayName": "Diana Serna",
      "userId": "09676229743963525876"
     }
    },
    "ExecuteTime": {
     "end_time": "2024-04-29T22:02:36.638428796Z",
     "start_time": "2024-04-29T22:02:35.590088987Z"
    }
   },
   "outputs": [],
   "source": [
    "import numpy as np\n",
    "import matplotlib.pyplot as plt\n",
    "from torchvision import datasets, transforms\n",
    "import torch\n",
    "from torch import nn\n",
    "from torch import optim\n",
    "import torch.nn.functional as F\n",
    "from IPython.display import clear_output\n",
    "import time"
   ]
  },
  {
   "cell_type": "code",
   "execution_count": 2,
   "id": "e9e464a59b6d1c3f",
   "metadata": {
    "colab": {
     "base_uri": "https://localhost:8080/"
    },
    "id": "e9e464a59b6d1c3f",
    "executionInfo": {
     "status": "ok",
     "timestamp": 1712927801997,
     "user_tz": 240,
     "elapsed": 2603,
     "user": {
      "displayName": "Diana Serna",
      "userId": "09676229743963525876"
     }
    },
    "outputId": "8e6ee58e-1f66-479b-bd91-2d7db033b696",
    "ExecuteTime": {
     "end_time": "2024-04-29T22:02:36.682038341Z",
     "start_time": "2024-04-29T22:02:36.681430663Z"
    }
   },
   "outputs": [
    {
     "name": "stdout",
     "output_type": "stream",
     "text": [
      "cuda\n"
     ]
    }
   ],
   "source": [
    "# Choose device\n",
    "\n",
    "device = (\"cuda\" if torch.cuda.is_available() else \"cpu\")\n",
    "print(device)\n",
    "\n",
    "# Define transformations\n",
    "transform = transforms.Compose([\n",
    "    transforms.ToTensor(),\n",
    "    transforms.Normalize((0.5,), (0.5,))\n",
    "])\n",
    "\n",
    "# Load datasets\n",
    "\n",
    "train_set = datasets.FashionMNIST('Data_FashionMNIST/', download=True, train=True, transform=transform)\n",
    "trainLoader = torch.utils.data.DataLoader(train_set, batch_size=64, shuffle=True)\n",
    "\n",
    "test_set = datasets.FashionMNIST('DATA_FashionMNIST/', download=True, train=False, transform=transform)\n",
    "testLoader = torch.utils.data.DataLoader(test_set, batch_size=64, shuffle=True)"
   ]
  },
  {
   "cell_type": "code",
   "outputs": [],
   "source": [
    "class AutoEncoder(nn.Module):\n",
    "    def __init__(self, num_hidden=8):\n",
    "        super().__init__()\n",
    "\n",
    "        # Set the number of hidden units\n",
    "        self.num_hidden = num_hidden\n",
    "\n",
    "        # Define the encoder part of the autoencoder\n",
    "        self.encoder = nn.Sequential(\n",
    "            nn.Linear(784, 512),  # input size: 784, output size: 256\n",
    "            nn.ReLU(),  # apply the ReLU activation function\n",
    "            nn.Linear(512, 256),  # input size: 784, output size: 256\n",
    "            nn.ReLU(),  # apply the ReLU activation function\n",
    "            nn.Linear(256, self.num_hidden),  # input size: 64, output size: num_hidden\n",
    "            nn.ReLU(),  # apply the ReLU activation function\n",
    "        )\n",
    "\n",
    "        # Define the decoder part of the autoencoder\n",
    "        self.decoder = nn.Sequential(\n",
    "            nn.Linear(self.num_hidden, 256),  # input size: num_hidden, output size: 64\n",
    "            nn.ReLU(),  # apply the ReLU activation function\n",
    "            nn.Linear(256, 512),  # input size: 64, output size: 256\n",
    "            nn.ReLU(),  # apply the ReLU activation function\n",
    "            nn.Linear(512, 784),  # input size: 256, output size: 784\n",
    "            nn.Sigmoid(),  # apply the sigmoid activation function to compress the output to a range of (0, 1)\n",
    "        )\n",
    "\n",
    "    def forward(self, x):\n",
    "        # Pass the input through the encoder\n",
    "        encoded = self.encoder(x)\n",
    "        # Pass the encoded representation through the decoder\n",
    "        decoded = self.decoder(encoded)\n",
    "        # Return both the encoded representation and the reconstructed output\n",
    "        return encoded, decoded"
   ],
   "metadata": {
    "id": "96474fe10ee2ecb0",
    "executionInfo": {
     "status": "ok",
     "timestamp": 1712927801998,
     "user_tz": 240,
     "elapsed": 53,
     "user": {
      "displayName": "Diana Serna",
      "userId": "09676229743963525876"
     }
    },
    "ExecuteTime": {
     "end_time": "2024-04-29T22:02:36.692650379Z",
     "start_time": "2024-04-29T22:02:36.682435096Z"
    }
   },
   "id": "96474fe10ee2ecb0",
   "execution_count": 3
  },
  {
   "cell_type": "code",
   "execution_count": 4,
   "id": "4a93a3165e74d558",
   "metadata": {
    "id": "4a93a3165e74d558",
    "executionInfo": {
     "status": "ok",
     "timestamp": 1712927801998,
     "user_tz": 240,
     "elapsed": 52,
     "user": {
      "displayName": "Diana Serna",
      "userId": "09676229743963525876"
     }
    },
    "ExecuteTime": {
     "end_time": "2024-04-29T22:02:36.697781566Z",
     "start_time": "2024-04-29T22:02:36.694682781Z"
    }
   },
   "outputs": [],
   "source": [
    "class VAE(AutoEncoder):\n",
    "    def __init__(self, num_hidden=8):\n",
    "        super().__init__(num_hidden=num_hidden)\n",
    "        # Add mu and log_var layers for reparameterization\n",
    "        self.mu = nn.Linear(self.num_hidden, self.num_hidden)\n",
    "        self.log_var = nn.Linear(self.num_hidden, self.num_hidden)\n",
    "\n",
    "    def reparameterize(self, mu, log_var):\n",
    "        # Compute the standard deviation from the log variance\n",
    "        std = torch.exp(0.5 * log_var)\n",
    "\n",
    "        # Generate random noise using the same shape as std\n",
    "        eps = torch.randn_like(std)\n",
    "\n",
    "        # Return the reparameterized sample\n",
    "        return mu + eps * std\n",
    "\n",
    "    def forward(self, x):\n",
    "        # Pass the input through the encoder\n",
    "\n",
    "        encoded = self.encoder(x)\n",
    "\n",
    "        # Compute the mean and log variance vectors\n",
    "        mu = self.mu(encoded)\n",
    "        log_var = self.log_var(encoded)\n",
    "\n",
    "        # Reparameterize the latent variable\n",
    "        z = self.reparameterize(mu, log_var)\n",
    "\n",
    "        # Pass the latent variable through the decoder\n",
    "        decoded = self.decoder(z)\n",
    "\n",
    "        # Return the encoded output, decoded output, mean, and log variance\n",
    "        return encoded, decoded, mu, log_var\n",
    "\n",
    "    def sample(self, num_samples):\n",
    "        with torch.no_grad():\n",
    "            # Generate random noise\n",
    "            z = torch.randn(num_samples, self.num_hidden).to(device)\n",
    "\n",
    "            # Pass the noise through the decoder to generate samples\n",
    "            samples = self.decoder(z)\n",
    "\n",
    "        # Return the generated samples\n",
    "        return samples"
   ]
  },
  {
   "cell_type": "code",
   "execution_count": 5,
   "id": "2a03efb73d510737",
   "metadata": {
    "id": "2a03efb73d510737",
    "executionInfo": {
     "status": "ok",
     "timestamp": 1712927801998,
     "user_tz": 240,
     "elapsed": 52,
     "user": {
      "displayName": "Diana Serna",
      "userId": "09676229743963525876"
     }
    },
    "ExecuteTime": {
     "end_time": "2024-04-29T22:02:36.703164009Z",
     "start_time": "2024-04-29T22:02:36.697945496Z"
    }
   },
   "outputs": [],
   "source": [
    "# Define a loss function that combines MSE and Kullback-Leibler divergence\n",
    "def vae_loss_function(recon_x, x, mu, logvar, lamb=3):\n",
    "    # Compute the MSE loss between the reconstructed output and the input data\n",
    "    MSE = F.mse_loss(recon_x, x.view(-1, 784), reduction=\"sum\")\n",
    "\n",
    "    # Compute the Kullback-Leibler divergence between the learned latent variable distribution and a standard Gaussian distribution\n",
    "    KLD = -0.5 * torch.sum(1 + logvar - mu.pow(2) - logvar.exp())\n",
    "\n",
    "    # Combine the two losses by adding them together and return the result\n",
    "    return MSE + lamb * KLD"
   ]
  },
  {
   "cell_type": "code",
   "outputs": [],
   "source": [
    "def train_vae(model, batch_size=64, learning_rate=1e-3, num_epochs=30):\n",
    "\n",
    "    # Create optimizer\n",
    "    optimizer = torch.optim.Adam(model.parameters(), lr=learning_rate)\n",
    "\n",
    "    # Set the device to GPU if available, otherwise use CPU\n",
    "    model.to(device)\n",
    "\n",
    "    # Training loop\n",
    "    for epoch in range(num_epochs):\n",
    "        total_loss = 0.0\n",
    "        for batch_idx, (data,_) in enumerate(trainLoader):\n",
    "            # Get a batch of training data and move it to the device\n",
    "            data = data.reshape(data.size(0),-1)\n",
    "            data = data.to(device)\n",
    "\n",
    "            # Forward pass\n",
    "            encoded, decoded, mu, log_var = model(data)\n",
    "\n",
    "            # Compute the loss and perform backpropagation\n",
    "            loss = vae_loss_function(decoded, data, mu, log_var, lamb=3)/len(data)\n",
    "\n",
    "            optimizer.zero_grad()\n",
    "            loss.backward()\n",
    "            optimizer.step()\n",
    "\n",
    "            # Update the running loss\n",
    "            total_loss += loss.item() * data.size(0)\n",
    "\n",
    "        # Print the epoch loss\n",
    "        epoch_loss = total_loss / len(trainLoader.dataset)\n",
    "        print(\n",
    "            \"Epoch {}/{}: loss={:.4f}\".format(epoch + 1, num_epochs, epoch_loss)\n",
    "        )"
   ],
   "metadata": {
    "id": "4d04d920e2a85dd6",
    "executionInfo": {
     "status": "ok",
     "timestamp": 1712927801998,
     "user_tz": 240,
     "elapsed": 51,
     "user": {
      "displayName": "Diana Serna",
      "userId": "09676229743963525876"
     }
    },
    "ExecuteTime": {
     "end_time": "2024-04-29T22:02:36.712237602Z",
     "start_time": "2024-04-29T22:02:36.700206090Z"
    }
   },
   "id": "4d04d920e2a85dd6",
   "execution_count": 6
  },
  {
   "cell_type": "code",
   "outputs": [
    {
     "name": "stdout",
     "output_type": "stream",
     "text": [
      "Epoch 1/50: loss=518.1290\n",
      "Epoch 2/50: loss=502.3154\n",
      "Epoch 3/50: loss=498.4087\n",
      "Epoch 4/50: loss=496.9537\n",
      "Epoch 5/50: loss=496.1211\n",
      "Epoch 6/50: loss=495.3963\n",
      "Epoch 7/50: loss=494.8538\n",
      "Epoch 8/50: loss=494.4729\n",
      "Epoch 9/50: loss=494.1681\n",
      "Epoch 10/50: loss=494.0540\n",
      "Epoch 11/50: loss=493.7277\n",
      "Epoch 12/50: loss=493.4164\n",
      "Epoch 13/50: loss=493.1615\n",
      "Epoch 14/50: loss=492.6119\n",
      "Epoch 15/50: loss=492.3679\n",
      "Epoch 16/50: loss=492.1777\n",
      "Epoch 17/50: loss=491.9710\n",
      "Epoch 18/50: loss=491.9309\n",
      "Epoch 19/50: loss=491.7284\n",
      "Epoch 20/50: loss=491.6510\n",
      "Epoch 21/50: loss=491.5188\n",
      "Epoch 22/50: loss=491.4314\n",
      "Epoch 23/50: loss=491.3187\n",
      "Epoch 24/50: loss=491.3730\n",
      "Epoch 25/50: loss=491.1898\n",
      "Epoch 26/50: loss=490.9537\n",
      "Epoch 27/50: loss=491.0041\n",
      "Epoch 28/50: loss=490.9388\n",
      "Epoch 29/50: loss=490.8071\n",
      "Epoch 30/50: loss=490.7286\n",
      "Epoch 31/50: loss=490.5875\n",
      "Epoch 32/50: loss=490.4779\n",
      "Epoch 33/50: loss=490.4460\n",
      "Epoch 34/50: loss=490.4435\n",
      "Epoch 35/50: loss=490.5583\n",
      "Epoch 36/50: loss=490.6400\n",
      "Epoch 37/50: loss=490.5692\n",
      "Epoch 38/50: loss=490.5650\n",
      "Epoch 39/50: loss=490.5422\n",
      "Epoch 40/50: loss=490.4016\n",
      "Epoch 41/50: loss=490.3352\n",
      "Epoch 42/50: loss=490.2147\n",
      "Epoch 43/50: loss=490.4569\n",
      "Epoch 44/50: loss=490.3098\n",
      "Epoch 45/50: loss=490.3473\n",
      "Epoch 46/50: loss=490.4076\n",
      "Epoch 47/50: loss=490.1373\n",
      "Epoch 48/50: loss=490.1333\n",
      "Epoch 49/50: loss=490.2042\n",
      "Epoch 50/50: loss=490.0442\n"
     ]
    }
   ],
   "source": [
    "model = VAE(num_hidden=64)\n",
    "train_vae(model,num_epochs=50)"
   ],
   "metadata": {
    "colab": {
     "base_uri": "https://localhost:8080/"
    },
    "id": "d4465ed35cb5e6ca",
    "executionInfo": {
     "status": "ok",
     "timestamp": 1712928261410,
     "user_tz": 240,
     "elapsed": 370207,
     "user": {
      "displayName": "Diana Serna",
      "userId": "09676229743963525876"
     }
    },
    "outputId": "374efab4-e21b-4695-aa45-fcd6d75a2a51",
    "ExecuteTime": {
     "end_time": "2024-04-29T22:08:13.425806268Z",
     "start_time": "2024-04-29T22:02:36.706652428Z"
    }
   },
   "id": "d4465ed35cb5e6ca",
   "execution_count": 7
  },
  {
   "cell_type": "code",
   "outputs": [
    {
     "data": {
      "text/plain": "<Figure size 640x480 with 1 Axes>",
      "image/png": "[encoded data removed]"
     },
     "metadata": {},
     "output_type": "display_data"
    }
   ],
   "source": [
    "model.eval()\n",
    "\n",
    "decoded = model.sample(1).view(-1, 28, 28).squeeze().cpu().numpy()\n",
    "\n",
    "plt.imshow(decoded, cmap=\"gray\")\n",
    "plt.show()"
   ],
   "metadata": {
    "colab": {
     "base_uri": "https://localhost:8080/",
     "height": 430
    },
    "id": "2457da7aa8fc7e20",
    "executionInfo": {
     "status": "ok",
     "timestamp": 1712928261705,
     "user_tz": 240,
     "elapsed": 296,
     "user": {
      "displayName": "Diana Serna",
      "userId": "09676229743963525876"
     }
    },
    "outputId": "49d9f23a-5fdf-4334-af97-10d46620c644",
    "ExecuteTime": {
     "end_time": "2024-04-29T22:08:13.479493179Z",
     "start_time": "2024-04-29T22:08:13.425602400Z"
    }
   },
   "id": "2457da7aa8fc7e20",
   "execution_count": 8
  },
  {
   "cell_type": "code",
   "outputs": [
    {
     "name": "stdout",
     "output_type": "stream",
     "text": [
      "samplin from AE with 64 latent dim\n",
      "Original images\n"
     ]
    },
    {
     "data": {
      "text/plain": "<Figure size 1000x400 with 10 Axes>",
      "image/png": "[encoded data removed]"
     },
     "metadata": {},
     "output_type": "display_data"
    }
   ],
   "source": [
    "def sample_ae(model, num_samples=5):\n",
    "  print(f\"samplin from AE with {model.num_hidden} latent dim\")\n",
    "  model.eval()\n",
    "  with torch.no_grad():\n",
    "    latent = torch.randn(num_samples, model.num_hidden, device=device)\n",
    "    decoded = model.decoder(latent)\n",
    "    return decoded.view(-1, 28, 28).squeeze().cpu().numpy()\n",
    "  \n",
    "samples = 10\n",
    "decoded = sample_ae(model, num_samples=samples)\n",
    "\n",
    "plt.figure(figsize=(10, 4))\n",
    "print('Original images')\n",
    "for i in range(10):\n",
    "    plt.subplot(2, 10, i + 1)\n",
    "    plt.imshow(decoded[i], cmap='gray_r')\n",
    "    plt.axis('off')\n",
    "plt.show()"
   ],
   "metadata": {
    "collapsed": false,
    "ExecuteTime": {
     "end_time": "2024-04-29T22:08:13.672206839Z",
     "start_time": "2024-04-29T22:08:13.483717199Z"
    }
   },
   "id": "503bcd73a2e0b1e2",
   "execution_count": 9
  },
  {
   "cell_type": "code",
   "execution_count": 10,
   "outputs": [
    {
     "name": "stdout",
     "output_type": "stream",
     "text": [
      "Original images\n"
     ]
    },
    {
     "data": {
      "text/plain": "<Figure size 1000x400 with 10 Axes>",
      "image/png": "[encoded data removed]"
     },
     "metadata": {},
     "output_type": "display_data"
    },
    {
     "name": "stdout",
     "output_type": "stream",
     "text": [
      "Reconstructed images\n"
     ]
    },
    {
     "data": {
      "text/plain": "<Figure size 1000x400 with 10 Axes>",
      "image/png": "[encoded data removed]"
     },
     "metadata": {},
     "output_type": "display_data"
    }
   ],
   "source": [
    "# Get a batch of test images\n",
    "dataiter = iter(testLoader)\n",
    "images, labels = next(dataiter)\n",
    "\n",
    "# Show original images\n",
    "plt.figure(figsize=(10, 4))\n",
    "print('Original images')\n",
    "for i in range(10):\n",
    "    plt.subplot(2, 10, i + 1)\n",
    "    plt.imshow(images[i].numpy().squeeze(), cmap='gray_r')\n",
    "    plt.axis('off')\n",
    "plt.show()\n",
    "\n",
    "# Show reconstructed images\n",
    "with torch.no_grad():\n",
    "    model.eval()\n",
    "    images = images.to(device)\n",
    "    images = images.reshape(images.size(0),-1)\n",
    "    encoded, outputs, _, _ = model(images)\n",
    "    outputs = outputs.view(-1,1,28, 28).cpu()\n",
    "    plt.figure(figsize=(10, 4))\n",
    "    print('Reconstructed images')\n",
    "    for i in range(10):\n",
    "        plt.subplot(2, 10, i + 1)\n",
    "        plt.imshow(outputs[i].numpy().squeeze(), cmap='gray_r')\n",
    "        plt.axis('off')\n",
    "    plt.show()"
   ],
   "metadata": {
    "colab": {
     "base_uri": "https://localhost:8080/",
     "height": 472
    },
    "id": "2793532c5b3941a8",
    "executionInfo": {
     "status": "error",
     "timestamp": 1712930058793,
     "user_tz": 240,
     "elapsed": 807,
     "user": {
      "displayName": "Diana Serna",
      "userId": "09676229743963525876"
     }
    },
    "outputId": "c0ee893d-d409-4bae-f359-8dbd69c98910",
    "ExecuteTime": {
     "end_time": "2024-04-29T22:08:14.023264479Z",
     "start_time": "2024-04-29T22:08:13.678326826Z"
    }
   },
   "id": "2793532c5b3941a8"
  }
 ],
 "metadata": {
  "kernelspec": {
   "name": "python3",
   "language": "python",
   "display_name": "Python 3 (ipykernel)"
  },
  "language_info": {
   "codemirror_mode": {
    "name": "ipython",
    "version": 3
   },
   "file_extension": ".py",
   "mimetype": "text/x-python",
   "name": "python",
   "nbconvert_exporter": "python",
   "pygments_lexer": "ipython3",
   "version": "3.10.8"
  },
  "colab": {
   "provenance": [],
   "gpuType": "T4"
  },
  "accelerator": "GPU"
 },
 "nbformat": 4,
 "nbformat_minor": 5
}
