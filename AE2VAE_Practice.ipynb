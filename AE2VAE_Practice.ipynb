{
 "cells": [
  {
   "cell_type": "markdown",
   "metadata": {
    "id": "2RNQIoNFXj47"
   },
   "source": [
    "## Autoencoders implementation"
   ]
  },
  {
   "cell_type": "markdown",
   "metadata": {},
   "source": []
  },
  {
   "cell_type": "markdown",
   "metadata": {
    "id": "7uuGOqU_Xozs"
   },
   "source": [
    "We will be working with the well known MNIST dataset. To download MNIST into your local folder, run this:"
   ]
  },
  {
   "cell_type": "code",
   "execution_count": 1,
   "metadata": {
    "ExecuteTime": {
     "end_time": "2024-03-20T16:06:41.905161787Z",
     "start_time": "2024-03-20T16:06:40.762792308Z"
    },
    "id": "eE9X4N3fYgMb"
   },
   "outputs": [],
   "source": [
    "from urllib import request\n",
    "import gzip\n",
    "import numpy as np\n",
    "import matplotlib.pyplot as plt\n",
    "\n",
    "import torch\n",
    "import torch.nn as nn\n",
    "import torch.nn.functional as F\n"
   ]
  },
  {
   "cell_type": "code",
   "execution_count": 2,
   "metadata": {
    "ExecuteTime": {
     "end_time": "2024-03-20T16:09:06.508014843Z",
     "start_time": "2024-03-20T16:09:05.082375906Z"
    },
    "colab": {
     "base_uri": "https://localhost:8080/"
    },
    "id": "raq-pp-6Xk4E",
    "outputId": "04724d47-44b8-4ee1-c8cc-efd335b26f9c"
   },
   "outputs": [
    {
     "name": "stdout",
     "output_type": "stream",
     "text": [
      "Downloading train-images-idx3-ubyte.gz\n",
      "Downloading train-labels-idx1-ubyte.gz\n",
      "Downloading t10k-images-idx3-ubyte.gz\n",
      "Downloading t10k-labels-idx1-ubyte.gz\n"
     ]
    }
   ],
   "source": [
    "# Download the files\n",
    "url = \"http://yann.lecun.com/exdb/mnist/\"\n",
    "filenames = ['train-images-idx3-ubyte.gz', 'train-labels-idx1-ubyte.gz',\n",
    "             't10k-images-idx3-ubyte.gz', 't10k-labels-idx1-ubyte.gz']\n",
    "data = []\n",
    "for filename in filenames:\n",
    "    print(\"Downloading\", filename)\n",
    "    request.urlretrieve(url + filename, filename)\n",
    "    with gzip.open(filename, 'rb') as f:\n",
    "        if 'labels' in filename:\n",
    "            # Load the labels as a one-dimensional array of integers\n",
    "            data.append(np.frombuffer(f.read(), np.uint8, offset=8))\n",
    "        else:\n",
    "            # Load the images as a two-dimensional array of pixels\n",
    "            data.append(np.frombuffer(f.read(), np.uint8, offset=16).reshape(-1,28*28))\n",
    "\n",
    "# Split into training and testing sets\n",
    "X_train_np, y_train, X_test_np, y_test = data\n",
    "\n",
    "# Normalize the pixel values\n",
    "X_train_np = X_train_np.astype(np.float32) / 255.0\n",
    "X_test_np = X_test_np.astype(np.float32) / 255.0\n",
    "\n",
    "# Convert labels to integers\n",
    "y_train = y_train.astype(np.int64)\n",
    "y_test = y_test.astype(np.int64)"
   ]
  },
  {
   "cell_type": "code",
   "execution_count": 3,
   "metadata": {
    "ExecuteTime": {
     "end_time": "2024-03-20T16:09:09.191233439Z",
     "start_time": "2024-03-20T16:09:09.081770243Z"
    },
    "colab": {
     "base_uri": "https://localhost:8080/",
     "height": 192
    },
    "id": "okAnDU2WXtc7",
    "outputId": "9c038ea7-1da6-431b-e535-651e4745b009"
   },
   "outputs": [
    {
     "data": {
      "image/png": "[encoded data removed]",
      "text/plain": [
       "<Figure size 1000x1500 with 5 Axes>"
      ]
     },
     "metadata": {},
     "output_type": "display_data"
    }
   ],
   "source": [
    "def show_images(images, labels):\n",
    "    \"\"\"\n",
    "    Display a set of images and their labels using matplotlib.\n",
    "    The first column of `images` should contain the image indices,\n",
    "    and the second column should contain the flattened image pixels\n",
    "    reshaped into 28x28 arrays.\n",
    "    \"\"\"\n",
    "    # Extract the image indices and reshaped pixels\n",
    "    pixels = images.reshape(-1, 28, 28)\n",
    "\n",
    "    # Create a figure with subplots for each image\n",
    "    fig, axs = plt.subplots(\n",
    "        ncols=len(images), nrows=1, figsize=(10, 3 * len(images))\n",
    "    )\n",
    "\n",
    "    # Loop over the images and display them with their labels\n",
    "    for i in range(len(images)):\n",
    "        # Display the image and its label\n",
    "        axs[i].imshow(pixels[i], cmap=\"gray\")\n",
    "        if labels is not None:\n",
    "          axs[i].set_title(\"Label: {}\".format(labels[i]))\n",
    "\n",
    "        # Remove the tick marks and axis labels\n",
    "        axs[i].set_xticks([])\n",
    "        axs[i].set_yticks([])\n",
    "\n",
    "    # Adjust the spacing between subplots\n",
    "    fig.subplots_adjust(hspace=0.5)\n",
    "\n",
    "    # Show the figure\n",
    "    plt.show()\n",
    "\n",
    "show_images(X_test_np[:5], y_test[:5])"
   ]
  },
  {
   "cell_type": "code",
   "execution_count": 4,
   "metadata": {
    "ExecuteTime": {
     "end_time": "2024-03-20T16:09:12.219394682Z",
     "start_time": "2024-03-20T16:09:12.157874463Z"
    },
    "id": "lVSfMrUlY26H"
   },
   "outputs": [],
   "source": [
    "class AutoEncoder(nn.Module):\n",
    "    def __init__(self, num_hidden=8):\n",
    "        super().__init__()\n",
    "\n",
    "        # Set the number of hidden units\n",
    "        self.num_hidden = num_hidden\n",
    "\n",
    "        # Define the encoder part of the autoencoder\n",
    "        self.encoder = nn.Sequential(\n",
    "            nn.Linear(784, 256),  # input size: 784, output size: 256\n",
    "            nn.ReLU(),  # apply the ReLU activation function\n",
    "            nn.Linear(256, self.num_hidden),  # input size: 256, output size: num_hidden\n",
    "            nn.ReLU(),  # apply the ReLU activation function\n",
    "        )\n",
    "\n",
    "        # Define the decoder part of the autoencoder\n",
    "        self.decoder = nn.Sequential(\n",
    "            nn.Linear(self.num_hidden, 256),  # input size: num_hidden, output size: 256\n",
    "            nn.ReLU(),  # apply the ReLU activation function\n",
    "            nn.Linear(256, 784),  # input size: 256, output size: 784\n",
    "            nn.Sigmoid(),  # apply the sigmoid activation function to compress the output to a range of (0, 1)\n",
    "        )\n",
    "\n",
    "    def forward(self, x):\n",
    "        # Pass the input through the encoder\n",
    "        encoded = self.encoder(x)\n",
    "        # Pass the encoded representation through the decoder\n",
    "        decoded = self.decoder(encoded)\n",
    "        # Return both the encoded representation and the reconstructed output\n",
    "        return encoded, decoded"
   ]
  },
  {
   "cell_type": "code",
   "execution_count": 5,
   "metadata": {
    "ExecuteTime": {
     "end_time": "2024-03-20T16:09:13.733350555Z",
     "start_time": "2024-03-20T16:09:13.727623337Z"
    },
    "id": "V_2578gMbr-U"
   },
   "outputs": [],
   "source": [
    "device = \"cuda\" if torch.cuda.is_available() else \"cpu\""
   ]
  },
  {
   "cell_type": "code",
   "execution_count": 6,
   "metadata": {
    "ExecuteTime": {
     "end_time": "2024-03-20T16:09:23.991129746Z",
     "start_time": "2024-03-20T16:09:23.987450730Z"
    },
    "id": "m4DIZphqZ7l3"
   },
   "outputs": [],
   "source": [
    "def train(model, batch_size=64, learning_rate=1e-3, num_epochs=15):\n",
    "\n",
    "  # Convert the training data to PyTorch tensors\n",
    "  X_train = torch.from_numpy(X_train_np)\n",
    "\n",
    "  optimizer = torch.optim.Adam(model.parameters(), lr=learning_rate)\n",
    "\n",
    "  # Define the loss function\n",
    "  criterion = nn.MSELoss()\n",
    "\n",
    "  # Set the device to GPU if available, otherwise use CPU\n",
    "  model.to(device)\n",
    "\n",
    "  # Create a DataLoader to handle batching of the training data\n",
    "  train_loader = torch.utils.data.DataLoader(\n",
    "      X_train, batch_size=batch_size, shuffle=True\n",
    "  )\n",
    "\n",
    "  model.train()\n",
    "\n",
    "  # Training loop\n",
    "  for epoch in range(num_epochs):\n",
    "      total_loss = 0.0\n",
    "      for batch_idx, data in enumerate(train_loader):\n",
    "          # Get a batch of training data and move it to the device\n",
    "          data = data.to(device)\n",
    "\n",
    "          # Forward pass\n",
    "          encoded, decoded = model(data)\n",
    "\n",
    "          # Compute the loss and perform backpropagation\n",
    "          loss = criterion(decoded, data)\n",
    "          optimizer.zero_grad()\n",
    "          loss.backward()\n",
    "          optimizer.step()\n",
    "\n",
    "          # Update the running loss\n",
    "          total_loss += loss.item() * data.size(0)\n",
    "\n",
    "      # Print the epoch loss\n",
    "      epoch_loss = total_loss / len(train_loader.dataset)\n",
    "      print(\n",
    "          \"Epoch {}/{}: loss={:.4f}\".format(epoch + 1, num_epochs, epoch_loss)\n",
    "      )"
   ]
  },
  {
   "cell_type": "code",
   "execution_count": 7,
   "metadata": {
    "ExecuteTime": {
     "end_time": "2024-03-20T16:09:25.133340439Z",
     "start_time": "2024-03-20T16:09:25.127815604Z"
    },
    "id": "AEvIHdjWbXOa"
   },
   "outputs": [],
   "source": [
    "def reconstruct(model, X_test, y_test):\n",
    "\n",
    "  model.eval()\n",
    "  with torch.no_grad():\n",
    "    decoded = model(X_test.to(device))[1].cpu()\n",
    "\n",
    "  show_images(X_test[:5], y_test[:5])\n",
    "  show_images(decoded[:5], y_test[:5])\n"
   ]
  },
  {
   "cell_type": "code",
   "execution_count": 17,
   "metadata": {
    "ExecuteTime": {
     "end_time": "2024-03-20T16:21:28.323502512Z",
     "start_time": "2024-03-20T16:21:13.657780411Z"
    },
    "colab": {
     "base_uri": "https://localhost:8080/",
     "height": 667
    },
    "id": "OQtEdG8gccnS",
    "outputId": "f466dc54-10f4-4d46-b863-d2553d3a8568"
   },
   "outputs": [
    {
     "name": "stdout",
     "output_type": "stream",
     "text": [
      "Epoch 1/15: loss=0.0584\n",
      "Epoch 2/15: loss=0.0507\n",
      "Epoch 3/15: loss=0.0459\n",
      "Epoch 4/15: loss=0.0377\n",
      "Epoch 5/15: loss=0.0355\n",
      "Epoch 6/15: loss=0.0342\n",
      "Epoch 7/15: loss=0.0334\n",
      "Epoch 8/15: loss=0.0327\n",
      "Epoch 9/15: loss=0.0322\n",
      "Epoch 10/15: loss=0.0318\n",
      "Epoch 11/15: loss=0.0314\n",
      "Epoch 12/15: loss=0.0311\n",
      "Epoch 13/15: loss=0.0309\n",
      "Epoch 14/15: loss=0.0306\n",
      "Epoch 15/15: loss=0.0304\n"
     ]
    },
    {
     "data": {
      "image/png": "[encoded data removed]",
      "text/plain": [
       "<Figure size 1000x1500 with 5 Axes>"
      ]
     },
     "metadata": {},
     "output_type": "display_data"
    },
    {
     "data": {
      "image/png": "[encoded data removed]",
      "text/plain": [
       "<Figure size 1000x1500 with 5 Axes>"
      ]
     },
     "metadata": {},
     "output_type": "display_data"
    }
   ],
   "source": [
    "model = AutoEncoder(num_hidden=8)\n",
    "\n",
    "train(model)\n",
    "\n",
    "reconstruct(model, torch.from_numpy(X_test_np[:100]), y_test[:100])"
   ]
  },
  {
   "cell_type": "code",
   "execution_count": 13,
   "metadata": {
    "ExecuteTime": {
     "end_time": "2024-03-20T16:20:32.815729711Z",
     "start_time": "2024-03-20T16:20:17.166243307Z"
    },
    "colab": {
     "base_uri": "https://localhost:8080/",
     "height": 667
    },
    "id": "PYzhoM87dMhE",
    "outputId": "205c5234-02c2-495a-920c-6f3f0277cf96"
   },
   "outputs": [
    {
     "name": "stdout",
     "output_type": "stream",
     "text": [
      "Epoch 1/15: loss=0.0312\n",
      "Epoch 2/15: loss=0.0139\n",
      "Epoch 3/15: loss=0.0114\n",
      "Epoch 4/15: loss=0.0102\n",
      "Epoch 5/15: loss=0.0094\n",
      "Epoch 6/15: loss=0.0089\n",
      "Epoch 7/15: loss=0.0085\n",
      "Epoch 8/15: loss=0.0082\n",
      "Epoch 9/15: loss=0.0080\n",
      "Epoch 10/15: loss=0.0078\n",
      "Epoch 11/15: loss=0.0076\n",
      "Epoch 12/15: loss=0.0075\n",
      "Epoch 13/15: loss=0.0073\n",
      "Epoch 14/15: loss=0.0072\n",
      "Epoch 15/15: loss=0.0071\n"
     ]
    },
    {
     "data": {
      "image/png": "[encoded data removed]",
      "text/plain": [
       "<Figure size 1000x1500 with 5 Axes>"
      ]
     },
     "metadata": {},
     "output_type": "display_data"
    },
    {
     "data": {
      "image/png": "[encoded data removed]",
      "text/plain": [
       "<Figure size 1000x1500 with 5 Axes>"
      ]
     },
     "metadata": {},
     "output_type": "display_data"
    }
   ],
   "source": [
    "model = AutoEncoder(num_hidden=32)\n",
    "\n",
    "train(model)\n",
    "\n",
    "reconstruct(model, torch.from_numpy(X_test_np[:100]), y_test[:100])"
   ]
  },
  {
   "cell_type": "code",
   "execution_count": 20,
   "metadata": {
    "ExecuteTime": {
     "end_time": "2024-03-20T16:23:18.894599656Z",
     "start_time": "2024-03-20T16:23:04.961506114Z"
    },
    "colab": {
     "base_uri": "https://localhost:8080/",
     "height": 667
    },
    "id": "u6fUIIF0dnK5",
    "outputId": "2a4fa677-b8ed-459b-d414-10a6e73c56e7"
   },
   "outputs": [
    {
     "name": "stdout",
     "output_type": "stream",
     "text": [
      "Epoch 1/15: loss=0.0561\n",
      "Epoch 2/15: loss=0.0491\n",
      "Epoch 3/15: loss=0.0470\n",
      "Epoch 4/15: loss=0.0458\n",
      "Epoch 5/15: loss=0.0450\n",
      "Epoch 6/15: loss=0.0444\n",
      "Epoch 7/15: loss=0.0439\n",
      "Epoch 8/15: loss=0.0435\n",
      "Epoch 9/15: loss=0.0432\n",
      "Epoch 10/15: loss=0.0428\n",
      "Epoch 11/15: loss=0.0425\n",
      "Epoch 12/15: loss=0.0422\n",
      "Epoch 13/15: loss=0.0419\n",
      "Epoch 14/15: loss=0.0417\n",
      "Epoch 15/15: loss=0.0414\n"
     ]
    },
    {
     "data": {
      "image/png": "[encoded data removed]",
      "text/plain": [
       "<Figure size 1000x1500 with 5 Axes>"
      ]
     },
     "metadata": {},
     "output_type": "display_data"
    },
    {
     "data": {
      "image/png": "[encoded data removed]",
      "text/plain": [
       "<Figure size 1000x1500 with 5 Axes>"
      ]
     },
     "metadata": {},
     "output_type": "display_data"
    }
   ],
   "source": [
    "model = AutoEncoder(num_hidden=2)\n",
    "\n",
    "train(model)\n",
    "\n",
    "reconstruct(model, torch.from_numpy(X_test_np[:100]), y_test[:100])"
   ]
  },
  {
   "cell_type": "code",
   "execution_count": 21,
   "metadata": {
    "ExecuteTime": {
     "end_time": "2024-03-20T16:23:21.961709264Z",
     "start_time": "2024-03-20T16:23:21.958090839Z"
    },
    "id": "-Cx4-RmoeL2a"
   },
   "outputs": [],
   "source": [
    "def sample_ae(model, num_samples=5):\n",
    "  print(f\"samplin from AE with {model.num_hidden} latent dim\")\n",
    "  model.eval()\n",
    "  with torch.no_grad():\n",
    "    latent = torch.randn(num_samples, model.num_hidden, device=device)\n",
    "    decoded = model.decoder(latent)\n",
    "\n",
    "\n",
    "  show_images(decoded[:num_samples].cpu(), labels=None)\n"
   ]
  },
  {
   "cell_type": "code",
   "execution_count": 30,
   "metadata": {
    "ExecuteTime": {
     "end_time": "2024-03-20T16:24:12.311380216Z",
     "start_time": "2024-03-20T16:24:12.236950557Z"
    },
    "colab": {
     "base_uri": "https://localhost:8080/",
     "height": 187
    },
    "id": "ypO5G5h-e_6I",
    "outputId": "518f59dc-4021-44b3-91cf-3ed90bb630fe"
   },
   "outputs": [
    {
     "name": "stdout",
     "output_type": "stream",
     "text": [
      "samplin from AE with 2 latent dim\n"
     ]
    },
    {
     "data": {
      "image/png": "[encoded data removed]",
      "text/plain": [
       "<Figure size 1000x1500 with 5 Axes>"
      ]
     },
     "metadata": {},
     "output_type": "display_data"
    }
   ],
   "source": [
    "sample_ae(model, num_samples=5)"
   ]
  },
  {
   "cell_type": "markdown",
   "metadata": {
    "id": "yKz-nflOfnc7"
   },
   "source": [
    "## Variational Autoencoders"
   ]
  },
  {
   "cell_type": "markdown",
   "metadata": {
    "id": "H5W0CG3pf1au"
   },
   "source": [
    "![](https://miro.medium.com/v2/resize:fit:1400/format:webp/0*kxB-Zgp4l5FgNRqE.png)"
   ]
  },
  {
   "cell_type": "code",
   "execution_count": 31,
   "metadata": {
    "ExecuteTime": {
     "end_time": "2024-03-20T16:46:30.202070320Z",
     "start_time": "2024-03-20T16:46:30.155811140Z"
    },
    "id": "vPktX4hHfzLp"
   },
   "outputs": [],
   "source": [
    "class VAE(AutoEncoder):\n",
    "    def __init__(self, num_hidden=8):\n",
    "        super().__init__(num_hidden=num_hidden)\n",
    "        # Add mu and log_var layers for reparameterization\n",
    "        self.mu = nn.Linear(self.num_hidden, self.num_hidden)\n",
    "        self.log_var = nn.Linear(self.num_hidden, self.num_hidden)\n",
    "\n",
    "    def reparameterize(self, mu, log_var):\n",
    "        # Compute the standard deviation from the log variance\n",
    "        std = torch.exp(0.5 * log_var)\n",
    "\n",
    "        # Generate random noise using the same shape as std\n",
    "        eps = torch.randn_like(std)\n",
    "\n",
    "        # Return the reparameterized sample\n",
    "        return mu + eps * std\n",
    "\n",
    "    def forward(self, x):\n",
    "        # Pass the input through the encoder\n",
    "        encoded = self.encoder(x)\n",
    "        # Compute the mean and log variance vectors\n",
    "        mu = self.mu(encoded)\n",
    "        log_var = self.log_var(encoded)\n",
    "\n",
    "        # Reparameterize the latent variable\n",
    "        z = self.reparameterize(mu, log_var)\n",
    "\n",
    "        # Pass the latent variable through the decoder\n",
    "        decoded = self.decoder(z)\n",
    "\n",
    "        # Return the encoded output, decoded output, mean, and log variance\n",
    "        return encoded, decoded, mu, log_var\n",
    "\n",
    "    def sample(self, num_samples):\n",
    "        with torch.no_grad():\n",
    "            # Generate random noise\n",
    "            z = torch.randn(num_samples, self.num_hidden).to(device)\n",
    "\n",
    "            # Pass the noise through the decoder to generate samples\n",
    "            samples = self.decoder(z)\n",
    "\n",
    "        # Return the generated samples\n",
    "        return samples"
   ]
  },
  {
   "cell_type": "code",
   "execution_count": 32,
   "metadata": {
    "ExecuteTime": {
     "end_time": "2024-03-20T16:46:30.951383005Z",
     "start_time": "2024-03-20T16:46:30.941139581Z"
    },
    "id": "DzDGRAfggYJX"
   },
   "outputs": [],
   "source": [
    "# Define a loss function that combines MSE and Kullback-Leibler divergence\n",
    "def vae_loss_function(recon_x, x, mu, logvar, lamb=3):\n",
    "    # Compute the MSE loss between the reconstructed output and the input data\n",
    "    MSE = F.mse_loss(recon_x, x.view(-1, 784), reduction=\"sum\")\n",
    "\n",
    "    # Compute the Kullback-Leibler divergence between the learned latent variable distribution and a standard Gaussian distribution\n",
    "    KLD = -0.5 * torch.sum(1 + logvar - mu.pow(2) - logvar.exp())\n",
    "\n",
    "    # Combine the two losses by adding them together and return the result\n",
    "    return MSE + lamb * KLD"
   ]
  },
  {
   "cell_type": "markdown",
   "metadata": {
    "id": "tsK_vNW5gnEk"
   },
   "source": [
    "The first component we are already familiar with — it’s just reconstruction error. The second component introduces penalty for the learned distribution to deviate too much from the prior distribution. Our prior distribution is just a bunch of zero-centred unit variance normal distributions.\n",
    "\n",
    "So to train the model we simple can use:"
   ]
  },
  {
   "cell_type": "code",
   "execution_count": 33,
   "metadata": {
    "ExecuteTime": {
     "end_time": "2024-03-20T16:49:45.623708075Z",
     "start_time": "2024-03-20T16:49:45.576675602Z"
    },
    "id": "BRsEXrN2gngj"
   },
   "outputs": [],
   "source": [
    "def train_vae(model, batch_size=64, learning_rate=1e-3, num_epochs=15):\n",
    "    # Convert the training data to PyTorch tensors\n",
    "    X_train = torch.from_numpy(X_train_np)\n",
    "\n",
    "    # Create optimizer\n",
    "    optimizer = torch.optim.Adam(model.parameters(), lr=learning_rate)\n",
    "\n",
    "    # Set the device to GPU if available, otherwise use CPU\n",
    "    model.to(device)\n",
    "\n",
    "    # Create a DataLoader to handle batching of the training data\n",
    "    train_loader = torch.utils.data.DataLoader(\n",
    "        X_train, batch_size=batch_size, shuffle=True\n",
    "    )\n",
    "\n",
    "    # Training loop\n",
    "    for epoch in range(num_epochs):\n",
    "        total_loss = 0.0\n",
    "        for batch_idx, data in enumerate(train_loader):\n",
    "            # Get a batch of training data and move it to the device\n",
    "            data = data.to(device)\n",
    "\n",
    "            # Forward pass\n",
    "            encoded, decoded, mu, log_var = model(data)\n",
    "\n",
    "            # Compute the loss and perform backpropagation\n",
    "            loss = vae_loss_function(decoded, data, mu, log_var, lamb=3)/len(data)\n",
    "\n",
    "            optimizer.zero_grad()\n",
    "            loss.backward()\n",
    "            optimizer.step()\n",
    "\n",
    "            # Update the running loss\n",
    "            total_loss += loss.item() * data.size(0)\n",
    "\n",
    "        # Print the epoch loss\n",
    "        epoch_loss = total_loss / len(train_loader.dataset)\n",
    "        print(\n",
    "            \"Epoch {}/{}: loss={:.4f}\".format(epoch + 1, num_epochs, epoch_loss)\n",
    "        )"
   ]
  },
  {
   "cell_type": "code",
   "execution_count": 34,
   "metadata": {
    "ExecuteTime": {
     "end_time": "2024-03-20T16:50:13.534700054Z",
     "start_time": "2024-03-20T16:49:51.689223839Z"
    },
    "colab": {
     "base_uri": "https://localhost:8080/",
     "height": 627
    },
    "id": "vNsgn_3JhCev",
    "outputId": "bae1e36d-57e0-467f-d6a2-ebf86e23fa58"
   },
   "outputs": [
    {
     "name": "stdout",
     "output_type": "stream",
     "text": [
      "Epoch 1/15: loss=54.1937\n",
      "Epoch 2/15: loss=49.6600\n",
      "Epoch 3/15: loss=47.8223\n",
      "Epoch 4/15: loss=46.8851\n",
      "Epoch 5/15: loss=46.4168\n",
      "Epoch 6/15: loss=46.0312\n",
      "Epoch 7/15: loss=45.7939\n",
      "Epoch 8/15: loss=45.5557\n",
      "Epoch 9/15: loss=45.3164\n",
      "Epoch 10/15: loss=45.1527\n",
      "Epoch 11/15: loss=45.0443\n",
      "Epoch 12/15: loss=44.9148\n",
      "Epoch 13/15: loss=44.7942\n",
      "Epoch 14/15: loss=44.7017\n",
      "Epoch 15/15: loss=44.6426\n"
     ]
    },
    {
     "data": {
      "image/png": "[encoded data removed]",
      "text/plain": [
       "<Figure size 1000x1500 with 5 Axes>"
      ]
     },
     "metadata": {},
     "output_type": "display_data"
    },
    {
     "data": {
      "image/png": "[encoded data removed]",
      "text/plain": [
       "<Figure size 1000x1500 with 5 Axes>"
      ]
     },
     "metadata": {},
     "output_type": "display_data"
    }
   ],
   "source": [
    "model = VAE(num_hidden=8)\n",
    "\n",
    "train_vae(model)\n",
    "\n",
    "reconstruct(model, torch.from_numpy(X_test_np[:100]), y_test[:100])"
   ]
  },
  {
   "cell_type": "code",
   "execution_count": 35,
   "metadata": {
    "ExecuteTime": {
     "end_time": "2024-03-20T16:51:08.221181395Z",
     "start_time": "2024-03-20T16:51:08.208238796Z"
    },
    "id": "DEJZ3w8fhgVv"
   },
   "outputs": [],
   "source": [
    "def sample_vae(model, num_samples=5):\n",
    "  print(f\"samplin from VAE with {model.num_hidden} latent dim\")\n",
    "  model.eval()\n",
    "\n",
    "  decoded = model.sample(num_samples)\n",
    "\n",
    "  show_images(decoded[:num_samples].cpu(), labels=None)"
   ]
  },
  {
   "cell_type": "code",
   "execution_count": 38,
   "metadata": {
    "ExecuteTime": {
     "end_time": "2024-03-20T16:52:00.016665948Z",
     "start_time": "2024-03-20T16:51:59.862941717Z"
    },
    "colab": {
     "base_uri": "https://localhost:8080/",
     "height": 187
    },
    "id": "5bhpJqJShz_g",
    "outputId": "6f3c43e0-7d1c-4d97-e9d5-257660dad27e"
   },
   "outputs": [
    {
     "name": "stdout",
     "output_type": "stream",
     "text": [
      "samplin from VAE with 8 latent dim\n"
     ]
    },
    {
     "data": {
      "image/png": "[encoded data removed]",
      "text/plain": [
       "<Figure size 1000x1500 with 5 Axes>"
      ]
     },
     "metadata": {},
     "output_type": "display_data"
    }
   ],
   "source": [
    "sample_vae(model, num_samples=5)"
   ]
  },
  {
   "cell_type": "markdown",
   "metadata": {
    "id": "HKFTBOOVkDMb"
   },
   "source": [
    "One last thing that is quite fun to do is to generate a random vector, then gradually change one of it’s components while keeping other components fixed. That way we are able to see how the output of the decoder changes. Here are a few examples:"
   ]
  },
  {
   "cell_type": "code",
   "execution_count": 41,
   "metadata": {
    "ExecuteTime": {
     "end_time": "2024-03-20T16:53:50.954354432Z",
     "start_time": "2024-03-20T16:53:50.948067496Z"
    },
    "id": "Z7Z3UO2hh_PW"
   },
   "outputs": [],
   "source": [
    "def traverse_latent(model, traverse=5):\n",
    "  model.eval()\n",
    "  samples = []\n",
    "  with torch.no_grad():\n",
    "      z = torch.randn(1, model.num_hidden).to(device)\n",
    "\n",
    "      for i in range(traverse):\n",
    "        sample = model.decoder(z)\n",
    "        samples.append(sample.cpu())\n",
    "\n",
    "        c_z = torch.randn(1).to(device) * 10\n",
    "        z[:, 0] += c_z\n",
    "\n",
    "\n",
    "  show_images(torch.stack(samples)[:traverse], labels=None)\n"
   ]
  },
  {
   "cell_type": "code",
   "execution_count": 48,
   "metadata": {
    "ExecuteTime": {
     "end_time": "2024-03-20T16:54:50.554589548Z",
     "start_time": "2024-03-20T16:54:50.282162382Z"
    },
    "colab": {
     "base_uri": "https://localhost:8080/",
     "height": 80
    },
    "id": "9CTTQ_uljHDM",
    "outputId": "21b16e35-64aa-466b-e13e-076eeb5d3dee"
   },
   "outputs": [
    {
     "data": {
      "image/png": "[encoded data removed]",
      "text/plain": [
       "<Figure size 1000x4500 with 15 Axes>"
      ]
     },
     "metadata": {},
     "output_type": "display_data"
    }
   ],
   "source": [
    "traverse_latent(model, traverse=15)"
   ]
  },
  {
   "cell_type": "markdown",
   "metadata": {
    "id": "nLKXGqFwsUFf"
   },
   "source": [
    "## Conditional Variational Autoencoders(CVAE)"
   ]
  },
  {
   "cell_type": "markdown",
   "metadata": {
    "id": "hHUrbOQNz3jY"
   },
   "source": [
    "![](https://miro.medium.com/v2/resize:fit:1400/format:webp/0*wSiHXUxJX_gCL22j.png)"
   ]
  },
  {
   "cell_type": "code",
   "execution_count": 50,
   "metadata": {
    "ExecuteTime": {
     "end_time": "2024-03-20T17:23:18.852030718Z",
     "start_time": "2024-03-20T17:23:18.800262507Z"
    },
    "id": "MnjyTAypsVPt"
   },
   "outputs": [],
   "source": [
    "class ConditionalVAE(VAE):\n",
    "    # VAE implementation from the article linked above\n",
    "    def __init__(self, num_classes, num_hidden):\n",
    "        super().__init__(num_hidden)\n",
    "\n",
    "        self.num_classes = num_classes\n",
    "\n",
    "        # Add a linear layer for the class label\n",
    "        self.label_projector = nn.Sequential(\n",
    "            nn.Linear(self.num_classes,self.num_hidden),nn.ReLU(),\n",
    "        )\n",
    "\n",
    "    def condition_on_label(self, z, y):\n",
    "        projected_label = self.label_projector(F.one_hot(y.long(), self.num_classes).float())\n",
    "        return z + projected_label\n",
    "\n",
    "    def forward(self, x, y):\n",
    "        # Pass the input through the encoder\n",
    "        encoded = self.encoder(x)\n",
    "        # Compute the mean and log variance vectors\n",
    "        mu = self.mu(encoded)\n",
    "        log_var = self.log_var(encoded)\n",
    "\n",
    "        # Reparameterize the latent variable\n",
    "        z = self.reparameterize(mu, log_var)\n",
    "        # Pass the latent variable through the decoder\n",
    "        decoded = self.decoder(self.condition_on_label(z, y))\n",
    "\n",
    "        # Return the encoded output, decoded output, mean, and log variance\n",
    "        return encoded, decoded, mu, log_var\n",
    "\n",
    "    def sample(self, num_samples, y):\n",
    "        with torch.no_grad():\n",
    "            # Generate random noise\n",
    "            z = torch.randn(num_samples, self.num_hidden).to(device)\n",
    "\n",
    "            # Pass the noise through the decoder to generate samples\n",
    "            samples = self.decoder(self.condition_on_label(z, y))\n",
    "\n",
    "        # Return the generated samples\n",
    "        return samples"
   ]
  },
  {
   "cell_type": "markdown",
   "metadata": {
    "id": "9pEEiC_Us-2s"
   },
   "source": [
    "Notice, there is a new layer called `label_projector` that does that linear projection. Also, the latent code is passed through that layer both during forward pass and sampling processes.\n",
    "\n",
    "A CVAE is trained with exactly the same loss function as it’s non-conditioned buddy. Here is the loss"
   ]
  },
  {
   "cell_type": "code",
   "execution_count": 51,
   "metadata": {
    "ExecuteTime": {
     "end_time": "2024-03-20T17:23:20.627975298Z",
     "start_time": "2024-03-20T17:23:20.620727471Z"
    },
    "id": "f_-TU1sjs_MX"
   },
   "outputs": [],
   "source": [
    "def train_cvae(model, batch_size=64, learning_rate=1e-3, num_epochs=15):\n",
    "    # Convert the training data to PyTorch tensors\n",
    "    X_tr = torch.from_numpy(X_train_np)\n",
    "    y_tr = torch.from_numpy(y_train)[:, None]\n",
    "\n",
    "    X_train = torch.cat([X_tr, y_tr], dim=1)\n",
    "\n",
    "    # Create optimizer\n",
    "    optimizer = torch.optim.Adam(model.parameters(), lr=learning_rate)\n",
    "\n",
    "    # Set the device to GPU if available, otherwise use CPU\n",
    "    model.to(device)\n",
    "\n",
    "    # Create a DataLoader to handle batching of the training data\n",
    "    train_loader = torch.utils.data.DataLoader(\n",
    "        X_train, batch_size=batch_size, shuffle=True\n",
    "    )\n",
    "\n",
    "    # Training loop\n",
    "    for epoch in range(num_epochs):\n",
    "        total_loss = 0.0\n",
    "        for batch_idx, data in enumerate(train_loader):\n",
    "            # Get a batch of training data and move it to the device\n",
    "            data = data.to(device)\n",
    "            x = data[:, :-1] # B, 784\n",
    "            y = data[:, -1] # B, 1\n",
    "\n",
    "            # Forward pass\n",
    "            encoded, decoded, mu, log_var = model(x=x, y=y)\n",
    "\n",
    "            # Compute the loss and perform backpropagation\n",
    "            loss = vae_loss_function(decoded, x, mu, log_var, lamb=3)/len(data)\n",
    "\n",
    "            optimizer.zero_grad()\n",
    "            loss.backward()\n",
    "            optimizer.step()\n",
    "\n",
    "            # Update the running loss\n",
    "            total_loss += loss.item() * data.size(0)\n",
    "\n",
    "        # Print the epoch loss\n",
    "        epoch_loss = total_loss / len(train_loader.dataset)\n",
    "        print(\n",
    "            \"Epoch {}/{}: loss={:.4f}\".format(epoch + 1, num_epochs, epoch_loss)\n",
    "        ) "
   ]
  },
  {
   "cell_type": "code",
   "execution_count": 53,
   "metadata": {
    "ExecuteTime": {
     "end_time": "2024-03-20T17:23:58.535297747Z",
     "start_time": "2024-03-20T17:23:58.518255336Z"
    },
    "id": "f_u94Z-Pt_cE"
   },
   "outputs": [],
   "source": [
    "def reconstruct_conditional(model, X_test, y_test):\n",
    "\n",
    "  model.eval()\n",
    "  with torch.no_grad():\n",
    "    decoded = model(X_test.to(device), y_test.to(device))[1].cpu()\n",
    "\n",
    "  show_images(X_test[:5], y_test[:5])\n",
    "  show_images(decoded[:5], y_test[:5])\n"
   ]
  },
  {
   "cell_type": "code",
   "execution_count": 54,
   "metadata": {
    "ExecuteTime": {
     "end_time": "2024-03-20T17:24:23.651317481Z",
     "start_time": "2024-03-20T17:24:01.120102449Z"
    },
    "colab": {
     "base_uri": "https://localhost:8080/",
     "height": 627
    },
    "id": "CF4ZTcq1txkq",
    "outputId": "a4d0c9cf-0926-4c56-f3f1-bff61f20dad5"
   },
   "outputs": [
    {
     "name": "stdout",
     "output_type": "stream",
     "text": [
      "Epoch 1/15: loss=50.5667\n",
      "Epoch 2/15: loss=43.4789\n",
      "Epoch 3/15: loss=41.5187\n",
      "Epoch 4/15: loss=40.3330\n",
      "Epoch 5/15: loss=39.4950\n",
      "Epoch 6/15: loss=39.0319\n",
      "Epoch 7/15: loss=38.5991\n",
      "Epoch 8/15: loss=38.2980\n",
      "Epoch 9/15: loss=38.0890\n",
      "Epoch 10/15: loss=37.8475\n",
      "Epoch 11/15: loss=37.6223\n",
      "Epoch 12/15: loss=37.4726\n",
      "Epoch 13/15: loss=37.3244\n",
      "Epoch 14/15: loss=37.2297\n",
      "Epoch 15/15: loss=37.0903\n"
     ]
    },
    {
     "data": {
      "image/png": "[encoded data removed]",
      "text/plain": [
       "<Figure size 1000x1500 with 5 Axes>"
      ]
     },
     "metadata": {},
     "output_type": "display_data"
    },
    {
     "data": {
      "image/png": "[encoded data removed]",
      "text/plain": [
       "<Figure size 1000x1500 with 5 Axes>"
      ]
     },
     "metadata": {},
     "output_type": "display_data"
    }
   ],
   "source": [
    "model = ConditionalVAE(num_classes=10, num_hidden=8)\n",
    "\n",
    "train_cvae(model)\n",
    "\n",
    "reconstruct_conditional(model, torch.from_numpy(X_test_np[:100]), torch.from_numpy(y_test[:100]))"
   ]
  },
  {
   "cell_type": "code",
   "execution_count": 55,
   "metadata": {
    "ExecuteTime": {
     "end_time": "2024-03-20T17:24:23.657221979Z",
     "start_time": "2024-03-20T17:24:23.652736493Z"
    },
    "id": "CskNs4eyxdCu"
   },
   "outputs": [],
   "source": [
    "def sample_cvae(model, labels, num_samples=5):\n",
    "\n",
    "  assert len(labels) == num_samples, \"labels must == samples\"\n",
    "\n",
    "  print(f\"samplin from CVAE with {model.num_hidden} latent dim\")\n",
    "  model.eval()\n",
    "\n",
    "  decoded = model.sample(num_samples, torch.LongTensor(labels).to(device))\n",
    "\n",
    "  show_images(decoded[:num_samples].cpu(), labels=labels)"
   ]
  },
  {
   "cell_type": "code",
   "execution_count": 64,
   "metadata": {
    "ExecuteTime": {
     "end_time": "2024-03-20T17:24:58.495400020Z",
     "start_time": "2024-03-20T17:24:58.401880431Z"
    },
    "colab": {
     "base_uri": "https://localhost:8080/",
     "height": 209
    },
    "id": "niSL36dGy2Xz",
    "outputId": "f0574cb6-2365-4abb-d044-676c4a716d1e"
   },
   "outputs": [
    {
     "name": "stdout",
     "output_type": "stream",
     "text": [
      "samplin from CVAE with 8 latent dim\n"
     ]
    },
    {
     "data": {
      "image/png": "[encoded data removed]",
      "text/plain": [
       "<Figure size 1000x1500 with 5 Axes>"
      ]
     },
     "metadata": {},
     "output_type": "display_data"
    }
   ],
   "source": [
    "sample_cvae(model, labels=[4, 8, 2, 0, 9], num_samples=5)"
   ]
  },
  {
   "cell_type": "code",
   "execution_count": null,
   "metadata": {},
   "outputs": [],
   "source": []
  }
 ],
 "metadata": {
  "accelerator": "GPU",
  "colab": {
   "gpuType": "T4",
   "provenance": []
  },
  "kernelspec": {
   "display_name": "Python 3 (ipykernel)",
   "language": "python",
   "name": "python3"
  },
  "language_info": {
   "codemirror_mode": {
    "name": "ipython",
    "version": 3
   },
   "file_extension": ".py",
   "mimetype": "text/x-python",
   "name": "python",
   "nbconvert_exporter": "python",
   "pygments_lexer": "ipython3",
   "version": "3.10.8"
  }
 },
 "nbformat": 4,
 "nbformat_minor": 1
}
